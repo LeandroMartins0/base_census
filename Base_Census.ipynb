{
  "nbformat": 4,
  "nbformat_minor": 0,
  "metadata": {
    "colab": {
      "name": "Base_Census.ipynb",
      "provenance": [],
      "collapsed_sections": [],
      "mount_file_id": "1FSBjdmMcykQSMGIwSE1WdzYQdRvZsVrV",
      "authorship_tag": "ABX9TyM5wOHcmdzX79/8r9ydFSeI",
      "include_colab_link": true
    },
    "kernelspec": {
      "name": "python3",
      "display_name": "Python 3"
    },
    "language_info": {
      "name": "python"
    }
  },
  "cells": [
    {
      "cell_type": "markdown",
      "metadata": {
        "id": "view-in-github",
        "colab_type": "text"
      },
      "source": [
        "<a href=\"https://colab.research.google.com/github/LeandroMartins0/base_census/blob/main/Base_Census.ipynb\" target=\"_parent\"><img src=\"https://colab.research.google.com/assets/colab-badge.svg\" alt=\"Open In Colab\"/></a>"
      ]
    },
    {
      "cell_type": "markdown",
      "source": [
        "# Bibliotecas"
      ],
      "metadata": {
        "id": "60Pq9OIRNI_t"
      }
    },
    {
      "cell_type": "code",
      "source": [
        "!pip install plotpy --upgrade"
      ],
      "metadata": {
        "id": "EUlZ-Z22NN1e"
      },
      "execution_count": null,
      "outputs": []
    },
    {
      "cell_type": "code",
      "source": [
        "!pip install yellowbrick"
      ],
      "metadata": {
        "id": "S83dk-EqNYMW"
      },
      "execution_count": null,
      "outputs": []
    },
    {
      "cell_type": "code",
      "source": [
        "import pandas as pd\n",
        "import numpy as np\n",
        "import seaborn as sns\n",
        "import matplotlib.pyplot as plt\n",
        "import plotly.express as px"
      ],
      "metadata": {
        "id": "Fn52FopnNfum"
      },
      "execution_count": 4,
      "outputs": []
    },
    {
      "cell_type": "code",
      "source": [
        "sns.set_theme(style=\"darkgrid\")\n",
        "palette=\"Set3\""
      ],
      "metadata": {
        "id": "WTjfV38AtlDT"
      },
      "execution_count": 47,
      "outputs": []
    },
    {
      "cell_type": "code",
      "source": [
        "from google.colab import drive\n",
        "drive.mount('/content/drive')"
      ],
      "metadata": {
        "colab": {
          "base_uri": "https://localhost:8080/"
        },
        "id": "8xM7TnpfNzLb",
        "outputId": "cda4591a-5bef-4957-9b57-d5320d9f7032"
      },
      "execution_count": 5,
      "outputs": [
        {
          "output_type": "stream",
          "name": "stdout",
          "text": [
            "Drive already mounted at /content/drive; to attempt to forcibly remount, call drive.mount(\"/content/drive\", force_remount=True).\n"
          ]
        }
      ]
    },
    {
      "cell_type": "markdown",
      "source": [
        "# Conexão com base de dados Census e estudo inicial"
      ],
      "metadata": {
        "id": "9I-Lxg0nM9lE"
      }
    },
    {
      "cell_type": "code",
      "execution_count": 69,
      "metadata": {
        "id": "JKUhc4wuM2TX"
      },
      "outputs": [],
      "source": [
        "base_census = pd.read_csv('/content/drive/MyDrive/Python Machine Learning/Arquivos/Bases de dados/census.csv')"
      ]
    },
    {
      "cell_type": "code",
      "source": [
        "base_census"
      ],
      "metadata": {
        "colab": {
          "base_uri": "https://localhost:8080/",
          "height": 659
        },
        "id": "lVi-Gh6qIVLW",
        "outputId": "aedcf056-861e-4128-ecbc-31757f1aa063"
      },
      "execution_count": 7,
      "outputs": [
        {
          "output_type": "execute_result",
          "data": {
            "text/html": [
              "\n",
              "  <div id=\"df-aa3cc2fb-2656-4b9f-b87c-4a5c1d6c9e6a\">\n",
              "    <div class=\"colab-df-container\">\n",
              "      <div>\n",
              "<style scoped>\n",
              "    .dataframe tbody tr th:only-of-type {\n",
              "        vertical-align: middle;\n",
              "    }\n",
              "\n",
              "    .dataframe tbody tr th {\n",
              "        vertical-align: top;\n",
              "    }\n",
              "\n",
              "    .dataframe thead th {\n",
              "        text-align: right;\n",
              "    }\n",
              "</style>\n",
              "<table border=\"1\" class=\"dataframe\">\n",
              "  <thead>\n",
              "    <tr style=\"text-align: right;\">\n",
              "      <th></th>\n",
              "      <th>age</th>\n",
              "      <th>workclass</th>\n",
              "      <th>final-weight</th>\n",
              "      <th>education</th>\n",
              "      <th>education-num</th>\n",
              "      <th>marital-status</th>\n",
              "      <th>occupation</th>\n",
              "      <th>relationship</th>\n",
              "      <th>race</th>\n",
              "      <th>sex</th>\n",
              "      <th>capital-gain</th>\n",
              "      <th>capital-loos</th>\n",
              "      <th>hour-per-week</th>\n",
              "      <th>native-country</th>\n",
              "      <th>income</th>\n",
              "    </tr>\n",
              "  </thead>\n",
              "  <tbody>\n",
              "    <tr>\n",
              "      <th>0</th>\n",
              "      <td>39</td>\n",
              "      <td>State-gov</td>\n",
              "      <td>77516</td>\n",
              "      <td>Bachelors</td>\n",
              "      <td>13</td>\n",
              "      <td>Never-married</td>\n",
              "      <td>Adm-clerical</td>\n",
              "      <td>Not-in-family</td>\n",
              "      <td>White</td>\n",
              "      <td>Male</td>\n",
              "      <td>2174</td>\n",
              "      <td>0</td>\n",
              "      <td>40</td>\n",
              "      <td>United-States</td>\n",
              "      <td>&lt;=50K</td>\n",
              "    </tr>\n",
              "    <tr>\n",
              "      <th>1</th>\n",
              "      <td>50</td>\n",
              "      <td>Self-emp-not-inc</td>\n",
              "      <td>83311</td>\n",
              "      <td>Bachelors</td>\n",
              "      <td>13</td>\n",
              "      <td>Married-civ-spouse</td>\n",
              "      <td>Exec-managerial</td>\n",
              "      <td>Husband</td>\n",
              "      <td>White</td>\n",
              "      <td>Male</td>\n",
              "      <td>0</td>\n",
              "      <td>0</td>\n",
              "      <td>13</td>\n",
              "      <td>United-States</td>\n",
              "      <td>&lt;=50K</td>\n",
              "    </tr>\n",
              "    <tr>\n",
              "      <th>2</th>\n",
              "      <td>38</td>\n",
              "      <td>Private</td>\n",
              "      <td>215646</td>\n",
              "      <td>HS-grad</td>\n",
              "      <td>9</td>\n",
              "      <td>Divorced</td>\n",
              "      <td>Handlers-cleaners</td>\n",
              "      <td>Not-in-family</td>\n",
              "      <td>White</td>\n",
              "      <td>Male</td>\n",
              "      <td>0</td>\n",
              "      <td>0</td>\n",
              "      <td>40</td>\n",
              "      <td>United-States</td>\n",
              "      <td>&lt;=50K</td>\n",
              "    </tr>\n",
              "    <tr>\n",
              "      <th>3</th>\n",
              "      <td>53</td>\n",
              "      <td>Private</td>\n",
              "      <td>234721</td>\n",
              "      <td>11th</td>\n",
              "      <td>7</td>\n",
              "      <td>Married-civ-spouse</td>\n",
              "      <td>Handlers-cleaners</td>\n",
              "      <td>Husband</td>\n",
              "      <td>Black</td>\n",
              "      <td>Male</td>\n",
              "      <td>0</td>\n",
              "      <td>0</td>\n",
              "      <td>40</td>\n",
              "      <td>United-States</td>\n",
              "      <td>&lt;=50K</td>\n",
              "    </tr>\n",
              "    <tr>\n",
              "      <th>4</th>\n",
              "      <td>28</td>\n",
              "      <td>Private</td>\n",
              "      <td>338409</td>\n",
              "      <td>Bachelors</td>\n",
              "      <td>13</td>\n",
              "      <td>Married-civ-spouse</td>\n",
              "      <td>Prof-specialty</td>\n",
              "      <td>Wife</td>\n",
              "      <td>Black</td>\n",
              "      <td>Female</td>\n",
              "      <td>0</td>\n",
              "      <td>0</td>\n",
              "      <td>40</td>\n",
              "      <td>Cuba</td>\n",
              "      <td>&lt;=50K</td>\n",
              "    </tr>\n",
              "    <tr>\n",
              "      <th>...</th>\n",
              "      <td>...</td>\n",
              "      <td>...</td>\n",
              "      <td>...</td>\n",
              "      <td>...</td>\n",
              "      <td>...</td>\n",
              "      <td>...</td>\n",
              "      <td>...</td>\n",
              "      <td>...</td>\n",
              "      <td>...</td>\n",
              "      <td>...</td>\n",
              "      <td>...</td>\n",
              "      <td>...</td>\n",
              "      <td>...</td>\n",
              "      <td>...</td>\n",
              "      <td>...</td>\n",
              "    </tr>\n",
              "    <tr>\n",
              "      <th>32556</th>\n",
              "      <td>27</td>\n",
              "      <td>Private</td>\n",
              "      <td>257302</td>\n",
              "      <td>Assoc-acdm</td>\n",
              "      <td>12</td>\n",
              "      <td>Married-civ-spouse</td>\n",
              "      <td>Tech-support</td>\n",
              "      <td>Wife</td>\n",
              "      <td>White</td>\n",
              "      <td>Female</td>\n",
              "      <td>0</td>\n",
              "      <td>0</td>\n",
              "      <td>38</td>\n",
              "      <td>United-States</td>\n",
              "      <td>&lt;=50K</td>\n",
              "    </tr>\n",
              "    <tr>\n",
              "      <th>32557</th>\n",
              "      <td>40</td>\n",
              "      <td>Private</td>\n",
              "      <td>154374</td>\n",
              "      <td>HS-grad</td>\n",
              "      <td>9</td>\n",
              "      <td>Married-civ-spouse</td>\n",
              "      <td>Machine-op-inspct</td>\n",
              "      <td>Husband</td>\n",
              "      <td>White</td>\n",
              "      <td>Male</td>\n",
              "      <td>0</td>\n",
              "      <td>0</td>\n",
              "      <td>40</td>\n",
              "      <td>United-States</td>\n",
              "      <td>&gt;50K</td>\n",
              "    </tr>\n",
              "    <tr>\n",
              "      <th>32558</th>\n",
              "      <td>58</td>\n",
              "      <td>Private</td>\n",
              "      <td>151910</td>\n",
              "      <td>HS-grad</td>\n",
              "      <td>9</td>\n",
              "      <td>Widowed</td>\n",
              "      <td>Adm-clerical</td>\n",
              "      <td>Unmarried</td>\n",
              "      <td>White</td>\n",
              "      <td>Female</td>\n",
              "      <td>0</td>\n",
              "      <td>0</td>\n",
              "      <td>40</td>\n",
              "      <td>United-States</td>\n",
              "      <td>&lt;=50K</td>\n",
              "    </tr>\n",
              "    <tr>\n",
              "      <th>32559</th>\n",
              "      <td>22</td>\n",
              "      <td>Private</td>\n",
              "      <td>201490</td>\n",
              "      <td>HS-grad</td>\n",
              "      <td>9</td>\n",
              "      <td>Never-married</td>\n",
              "      <td>Adm-clerical</td>\n",
              "      <td>Own-child</td>\n",
              "      <td>White</td>\n",
              "      <td>Male</td>\n",
              "      <td>0</td>\n",
              "      <td>0</td>\n",
              "      <td>20</td>\n",
              "      <td>United-States</td>\n",
              "      <td>&lt;=50K</td>\n",
              "    </tr>\n",
              "    <tr>\n",
              "      <th>32560</th>\n",
              "      <td>52</td>\n",
              "      <td>Self-emp-inc</td>\n",
              "      <td>287927</td>\n",
              "      <td>HS-grad</td>\n",
              "      <td>9</td>\n",
              "      <td>Married-civ-spouse</td>\n",
              "      <td>Exec-managerial</td>\n",
              "      <td>Wife</td>\n",
              "      <td>White</td>\n",
              "      <td>Female</td>\n",
              "      <td>15024</td>\n",
              "      <td>0</td>\n",
              "      <td>40</td>\n",
              "      <td>United-States</td>\n",
              "      <td>&gt;50K</td>\n",
              "    </tr>\n",
              "  </tbody>\n",
              "</table>\n",
              "<p>32561 rows × 15 columns</p>\n",
              "</div>\n",
              "      <button class=\"colab-df-convert\" onclick=\"convertToInteractive('df-aa3cc2fb-2656-4b9f-b87c-4a5c1d6c9e6a')\"\n",
              "              title=\"Convert this dataframe to an interactive table.\"\n",
              "              style=\"display:none;\">\n",
              "        \n",
              "  <svg xmlns=\"http://www.w3.org/2000/svg\" height=\"24px\"viewBox=\"0 0 24 24\"\n",
              "       width=\"24px\">\n",
              "    <path d=\"M0 0h24v24H0V0z\" fill=\"none\"/>\n",
              "    <path d=\"M18.56 5.44l.94 2.06.94-2.06 2.06-.94-2.06-.94-.94-2.06-.94 2.06-2.06.94zm-11 1L8.5 8.5l.94-2.06 2.06-.94-2.06-.94L8.5 2.5l-.94 2.06-2.06.94zm10 10l.94 2.06.94-2.06 2.06-.94-2.06-.94-.94-2.06-.94 2.06-2.06.94z\"/><path d=\"M17.41 7.96l-1.37-1.37c-.4-.4-.92-.59-1.43-.59-.52 0-1.04.2-1.43.59L10.3 9.45l-7.72 7.72c-.78.78-.78 2.05 0 2.83L4 21.41c.39.39.9.59 1.41.59.51 0 1.02-.2 1.41-.59l7.78-7.78 2.81-2.81c.8-.78.8-2.07 0-2.86zM5.41 20L4 18.59l7.72-7.72 1.47 1.35L5.41 20z\"/>\n",
              "  </svg>\n",
              "      </button>\n",
              "      \n",
              "  <style>\n",
              "    .colab-df-container {\n",
              "      display:flex;\n",
              "      flex-wrap:wrap;\n",
              "      gap: 12px;\n",
              "    }\n",
              "\n",
              "    .colab-df-convert {\n",
              "      background-color: #E8F0FE;\n",
              "      border: none;\n",
              "      border-radius: 50%;\n",
              "      cursor: pointer;\n",
              "      display: none;\n",
              "      fill: #1967D2;\n",
              "      height: 32px;\n",
              "      padding: 0 0 0 0;\n",
              "      width: 32px;\n",
              "    }\n",
              "\n",
              "    .colab-df-convert:hover {\n",
              "      background-color: #E2EBFA;\n",
              "      box-shadow: 0px 1px 2px rgba(60, 64, 67, 0.3), 0px 1px 3px 1px rgba(60, 64, 67, 0.15);\n",
              "      fill: #174EA6;\n",
              "    }\n",
              "\n",
              "    [theme=dark] .colab-df-convert {\n",
              "      background-color: #3B4455;\n",
              "      fill: #D2E3FC;\n",
              "    }\n",
              "\n",
              "    [theme=dark] .colab-df-convert:hover {\n",
              "      background-color: #434B5C;\n",
              "      box-shadow: 0px 1px 3px 1px rgba(0, 0, 0, 0.15);\n",
              "      filter: drop-shadow(0px 1px 2px rgba(0, 0, 0, 0.3));\n",
              "      fill: #FFFFFF;\n",
              "    }\n",
              "  </style>\n",
              "\n",
              "      <script>\n",
              "        const buttonEl =\n",
              "          document.querySelector('#df-aa3cc2fb-2656-4b9f-b87c-4a5c1d6c9e6a button.colab-df-convert');\n",
              "        buttonEl.style.display =\n",
              "          google.colab.kernel.accessAllowed ? 'block' : 'none';\n",
              "\n",
              "        async function convertToInteractive(key) {\n",
              "          const element = document.querySelector('#df-aa3cc2fb-2656-4b9f-b87c-4a5c1d6c9e6a');\n",
              "          const dataTable =\n",
              "            await google.colab.kernel.invokeFunction('convertToInteractive',\n",
              "                                                     [key], {});\n",
              "          if (!dataTable) return;\n",
              "\n",
              "          const docLinkHtml = 'Like what you see? Visit the ' +\n",
              "            '<a target=\"_blank\" href=https://colab.research.google.com/notebooks/data_table.ipynb>data table notebook</a>'\n",
              "            + ' to learn more about interactive tables.';\n",
              "          element.innerHTML = '';\n",
              "          dataTable['output_type'] = 'display_data';\n",
              "          await google.colab.output.renderOutput(dataTable, element);\n",
              "          const docLink = document.createElement('div');\n",
              "          docLink.innerHTML = docLinkHtml;\n",
              "          element.appendChild(docLink);\n",
              "        }\n",
              "      </script>\n",
              "    </div>\n",
              "  </div>\n",
              "  "
            ],
            "text/plain": [
              "       age          workclass  ...  native-country  income\n",
              "0       39          State-gov  ...   United-States   <=50K\n",
              "1       50   Self-emp-not-inc  ...   United-States   <=50K\n",
              "2       38            Private  ...   United-States   <=50K\n",
              "3       53            Private  ...   United-States   <=50K\n",
              "4       28            Private  ...            Cuba   <=50K\n",
              "...    ...                ...  ...             ...     ...\n",
              "32556   27            Private  ...   United-States   <=50K\n",
              "32557   40            Private  ...   United-States    >50K\n",
              "32558   58            Private  ...   United-States   <=50K\n",
              "32559   22            Private  ...   United-States   <=50K\n",
              "32560   52       Self-emp-inc  ...   United-States    >50K\n",
              "\n",
              "[32561 rows x 15 columns]"
            ]
          },
          "metadata": {},
          "execution_count": 7
        }
      ]
    },
    {
      "cell_type": "code",
      "source": [
        "# Caracteristicas da base\n",
        "base_census.describe()"
      ],
      "metadata": {
        "colab": {
          "base_uri": "https://localhost:8080/",
          "height": 300
        },
        "id": "n0HwiZDsFn-T",
        "outputId": "e3b24354-d350-4c2d-c27c-68a7d0487e0b"
      },
      "execution_count": 60,
      "outputs": [
        {
          "output_type": "execute_result",
          "data": {
            "text/html": [
              "\n",
              "  <div id=\"df-c7749272-9e87-482c-874e-6baf0347b597\">\n",
              "    <div class=\"colab-df-container\">\n",
              "      <div>\n",
              "<style scoped>\n",
              "    .dataframe tbody tr th:only-of-type {\n",
              "        vertical-align: middle;\n",
              "    }\n",
              "\n",
              "    .dataframe tbody tr th {\n",
              "        vertical-align: top;\n",
              "    }\n",
              "\n",
              "    .dataframe thead th {\n",
              "        text-align: right;\n",
              "    }\n",
              "</style>\n",
              "<table border=\"1\" class=\"dataframe\">\n",
              "  <thead>\n",
              "    <tr style=\"text-align: right;\">\n",
              "      <th></th>\n",
              "      <th>age</th>\n",
              "      <th>final-weight</th>\n",
              "      <th>education-num</th>\n",
              "      <th>capital-gain</th>\n",
              "      <th>capital-loos</th>\n",
              "      <th>hour-per-week</th>\n",
              "    </tr>\n",
              "  </thead>\n",
              "  <tbody>\n",
              "    <tr>\n",
              "      <th>count</th>\n",
              "      <td>32561.000000</td>\n",
              "      <td>3.256100e+04</td>\n",
              "      <td>32561.000000</td>\n",
              "      <td>32561.000000</td>\n",
              "      <td>32561.000000</td>\n",
              "      <td>32561.000000</td>\n",
              "    </tr>\n",
              "    <tr>\n",
              "      <th>mean</th>\n",
              "      <td>38.581647</td>\n",
              "      <td>1.897784e+05</td>\n",
              "      <td>10.080679</td>\n",
              "      <td>1077.648844</td>\n",
              "      <td>87.303830</td>\n",
              "      <td>40.437456</td>\n",
              "    </tr>\n",
              "    <tr>\n",
              "      <th>std</th>\n",
              "      <td>13.640433</td>\n",
              "      <td>1.055500e+05</td>\n",
              "      <td>2.572720</td>\n",
              "      <td>7385.292085</td>\n",
              "      <td>402.960219</td>\n",
              "      <td>12.347429</td>\n",
              "    </tr>\n",
              "    <tr>\n",
              "      <th>min</th>\n",
              "      <td>17.000000</td>\n",
              "      <td>1.228500e+04</td>\n",
              "      <td>1.000000</td>\n",
              "      <td>0.000000</td>\n",
              "      <td>0.000000</td>\n",
              "      <td>1.000000</td>\n",
              "    </tr>\n",
              "    <tr>\n",
              "      <th>25%</th>\n",
              "      <td>28.000000</td>\n",
              "      <td>1.178270e+05</td>\n",
              "      <td>9.000000</td>\n",
              "      <td>0.000000</td>\n",
              "      <td>0.000000</td>\n",
              "      <td>40.000000</td>\n",
              "    </tr>\n",
              "    <tr>\n",
              "      <th>50%</th>\n",
              "      <td>37.000000</td>\n",
              "      <td>1.783560e+05</td>\n",
              "      <td>10.000000</td>\n",
              "      <td>0.000000</td>\n",
              "      <td>0.000000</td>\n",
              "      <td>40.000000</td>\n",
              "    </tr>\n",
              "    <tr>\n",
              "      <th>75%</th>\n",
              "      <td>48.000000</td>\n",
              "      <td>2.370510e+05</td>\n",
              "      <td>12.000000</td>\n",
              "      <td>0.000000</td>\n",
              "      <td>0.000000</td>\n",
              "      <td>45.000000</td>\n",
              "    </tr>\n",
              "    <tr>\n",
              "      <th>max</th>\n",
              "      <td>90.000000</td>\n",
              "      <td>1.484705e+06</td>\n",
              "      <td>16.000000</td>\n",
              "      <td>99999.000000</td>\n",
              "      <td>4356.000000</td>\n",
              "      <td>99.000000</td>\n",
              "    </tr>\n",
              "  </tbody>\n",
              "</table>\n",
              "</div>\n",
              "      <button class=\"colab-df-convert\" onclick=\"convertToInteractive('df-c7749272-9e87-482c-874e-6baf0347b597')\"\n",
              "              title=\"Convert this dataframe to an interactive table.\"\n",
              "              style=\"display:none;\">\n",
              "        \n",
              "  <svg xmlns=\"http://www.w3.org/2000/svg\" height=\"24px\"viewBox=\"0 0 24 24\"\n",
              "       width=\"24px\">\n",
              "    <path d=\"M0 0h24v24H0V0z\" fill=\"none\"/>\n",
              "    <path d=\"M18.56 5.44l.94 2.06.94-2.06 2.06-.94-2.06-.94-.94-2.06-.94 2.06-2.06.94zm-11 1L8.5 8.5l.94-2.06 2.06-.94-2.06-.94L8.5 2.5l-.94 2.06-2.06.94zm10 10l.94 2.06.94-2.06 2.06-.94-2.06-.94-.94-2.06-.94 2.06-2.06.94z\"/><path d=\"M17.41 7.96l-1.37-1.37c-.4-.4-.92-.59-1.43-.59-.52 0-1.04.2-1.43.59L10.3 9.45l-7.72 7.72c-.78.78-.78 2.05 0 2.83L4 21.41c.39.39.9.59 1.41.59.51 0 1.02-.2 1.41-.59l7.78-7.78 2.81-2.81c.8-.78.8-2.07 0-2.86zM5.41 20L4 18.59l7.72-7.72 1.47 1.35L5.41 20z\"/>\n",
              "  </svg>\n",
              "      </button>\n",
              "      \n",
              "  <style>\n",
              "    .colab-df-container {\n",
              "      display:flex;\n",
              "      flex-wrap:wrap;\n",
              "      gap: 12px;\n",
              "    }\n",
              "\n",
              "    .colab-df-convert {\n",
              "      background-color: #E8F0FE;\n",
              "      border: none;\n",
              "      border-radius: 50%;\n",
              "      cursor: pointer;\n",
              "      display: none;\n",
              "      fill: #1967D2;\n",
              "      height: 32px;\n",
              "      padding: 0 0 0 0;\n",
              "      width: 32px;\n",
              "    }\n",
              "\n",
              "    .colab-df-convert:hover {\n",
              "      background-color: #E2EBFA;\n",
              "      box-shadow: 0px 1px 2px rgba(60, 64, 67, 0.3), 0px 1px 3px 1px rgba(60, 64, 67, 0.15);\n",
              "      fill: #174EA6;\n",
              "    }\n",
              "\n",
              "    [theme=dark] .colab-df-convert {\n",
              "      background-color: #3B4455;\n",
              "      fill: #D2E3FC;\n",
              "    }\n",
              "\n",
              "    [theme=dark] .colab-df-convert:hover {\n",
              "      background-color: #434B5C;\n",
              "      box-shadow: 0px 1px 3px 1px rgba(0, 0, 0, 0.15);\n",
              "      filter: drop-shadow(0px 1px 2px rgba(0, 0, 0, 0.3));\n",
              "      fill: #FFFFFF;\n",
              "    }\n",
              "  </style>\n",
              "\n",
              "      <script>\n",
              "        const buttonEl =\n",
              "          document.querySelector('#df-c7749272-9e87-482c-874e-6baf0347b597 button.colab-df-convert');\n",
              "        buttonEl.style.display =\n",
              "          google.colab.kernel.accessAllowed ? 'block' : 'none';\n",
              "\n",
              "        async function convertToInteractive(key) {\n",
              "          const element = document.querySelector('#df-c7749272-9e87-482c-874e-6baf0347b597');\n",
              "          const dataTable =\n",
              "            await google.colab.kernel.invokeFunction('convertToInteractive',\n",
              "                                                     [key], {});\n",
              "          if (!dataTable) return;\n",
              "\n",
              "          const docLinkHtml = 'Like what you see? Visit the ' +\n",
              "            '<a target=\"_blank\" href=https://colab.research.google.com/notebooks/data_table.ipynb>data table notebook</a>'\n",
              "            + ' to learn more about interactive tables.';\n",
              "          element.innerHTML = '';\n",
              "          dataTable['output_type'] = 'display_data';\n",
              "          await google.colab.output.renderOutput(dataTable, element);\n",
              "          const docLink = document.createElement('div');\n",
              "          docLink.innerHTML = docLinkHtml;\n",
              "          element.appendChild(docLink);\n",
              "        }\n",
              "      </script>\n",
              "    </div>\n",
              "  </div>\n",
              "  "
            ],
            "text/plain": [
              "                age  final-weight  ...  capital-loos  hour-per-week\n",
              "count  32561.000000  3.256100e+04  ...  32561.000000   32561.000000\n",
              "mean      38.581647  1.897784e+05  ...     87.303830      40.437456\n",
              "std       13.640433  1.055500e+05  ...    402.960219      12.347429\n",
              "min       17.000000  1.228500e+04  ...      0.000000       1.000000\n",
              "25%       28.000000  1.178270e+05  ...      0.000000      40.000000\n",
              "50%       37.000000  1.783560e+05  ...      0.000000      40.000000\n",
              "75%       48.000000  2.370510e+05  ...      0.000000      45.000000\n",
              "max       90.000000  1.484705e+06  ...   4356.000000      99.000000\n",
              "\n",
              "[8 rows x 6 columns]"
            ]
          },
          "metadata": {},
          "execution_count": 60
        }
      ]
    },
    {
      "cell_type": "code",
      "source": [
        "# Medias\n",
        "base_census.mean()"
      ],
      "metadata": {
        "colab": {
          "base_uri": "https://localhost:8080/"
        },
        "id": "dnDmiuR8F02d",
        "outputId": "c53ead0e-bba0-4213-fe01-a9f75c7f2791"
      },
      "execution_count": 9,
      "outputs": [
        {
          "output_type": "stream",
          "name": "stderr",
          "text": [
            "/usr/local/lib/python3.7/dist-packages/ipykernel_launcher.py:2: FutureWarning: Dropping of nuisance columns in DataFrame reductions (with 'numeric_only=None') is deprecated; in a future version this will raise TypeError.  Select only valid columns before calling the reduction.\n",
            "  \n"
          ]
        },
        {
          "output_type": "execute_result",
          "data": {
            "text/plain": [
              "age                  38.581647\n",
              "final-weight     189778.366512\n",
              "education-num        10.080679\n",
              "capital-gain       1077.648844\n",
              "capital-loos         87.303830\n",
              "hour-per-week        40.437456\n",
              "dtype: float64"
            ]
          },
          "metadata": {},
          "execution_count": 9
        }
      ]
    },
    {
      "cell_type": "code",
      "source": [
        "# Verificar nulos\n",
        "base_census.isnull().sum()"
      ],
      "metadata": {
        "colab": {
          "base_uri": "https://localhost:8080/"
        },
        "id": "JC2M1Rl4H_S7",
        "outputId": "f20bf032-2c42-4e15-866d-468360683fbe"
      },
      "execution_count": 10,
      "outputs": [
        {
          "output_type": "execute_result",
          "data": {
            "text/plain": [
              "age               0\n",
              "workclass         0\n",
              "final-weight      0\n",
              "education         0\n",
              "education-num     0\n",
              "marital-status    0\n",
              "occupation        0\n",
              "relationship      0\n",
              "race              0\n",
              "sex               0\n",
              "capital-gain      0\n",
              "capital-loos      0\n",
              "hour-per-week     0\n",
              "native-country    0\n",
              "income            0\n",
              "dtype: int64"
            ]
          },
          "metadata": {},
          "execution_count": 10
        }
      ]
    },
    {
      "cell_type": "code",
      "source": [
        "# Verificar a quantidade de registros das classses\n",
        "np.unique(base_census['income'], return_counts = True)"
      ],
      "metadata": {
        "colab": {
          "base_uri": "https://localhost:8080/"
        },
        "id": "k-K3ld83IH3H",
        "outputId": "6eaadf9c-c0b7-4591-d578-eedaf244e4ad"
      },
      "execution_count": 11,
      "outputs": [
        {
          "output_type": "execute_result",
          "data": {
            "text/plain": [
              "(array([' <=50K', ' >50K'], dtype=object), array([24720,  7841]))"
            ]
          },
          "metadata": {},
          "execution_count": 11
        }
      ]
    },
    {
      "cell_type": "code",
      "source": [
        "df = pd.DataFrame(base_census)\n",
        "df.education.unique()"
      ],
      "metadata": {
        "colab": {
          "base_uri": "https://localhost:8080/"
        },
        "id": "sFDEXcAawDgt",
        "outputId": "064c1ad7-1f15-4fba-f124-e6bf3e1454b9"
      },
      "execution_count": 74,
      "outputs": [
        {
          "output_type": "execute_result",
          "data": {
            "text/plain": [
              "array([' Bachelors', ' HS-grad', ' 11th', ' Masters', ' 9th',\n",
              "       ' Some-college', ' Assoc-acdm', ' Assoc-voc', ' 7th-8th',\n",
              "       ' Doctorate', ' Prof-school', ' 5th-6th', ' 10th', ' 1st-4th',\n",
              "       ' Preschool', ' 12th'], dtype=object)"
            ]
          },
          "metadata": {},
          "execution_count": 74
        }
      ]
    },
    {
      "cell_type": "code",
      "source": [
        "# Estudando gráfico da classe\n",
        "sns.countplot(x = base_census['income']);"
      ],
      "metadata": {
        "colab": {
          "base_uri": "https://localhost:8080/",
          "height": 285
        },
        "id": "PIMZfVJzLN23",
        "outputId": "2e020f50-30cf-4898-a72e-11fced9e9722"
      },
      "execution_count": 48,
      "outputs": [
        {
          "output_type": "display_data",
          "data": {
            "image/png": "[encoded data removed]",
            "text/plain": [
              "<Figure size 432x288 with 1 Axes>"
            ]
          },
          "metadata": {}
        }
      ]
    },
    {
      "cell_type": "code",
      "source": [
        "plt.hist(base_census['age']);"
      ],
      "metadata": {
        "colab": {
          "base_uri": "https://localhost:8080/",
          "height": 268
        },
        "id": "NxIit9KDrWBK",
        "outputId": "d968b955-afa9-4c54-d8aa-dca4b16c3702"
      },
      "execution_count": 66,
      "outputs": [
        {
          "output_type": "display_data",
          "data": {
            "image/png": "[encoded data removed]",
            "text/plain": [
              "<Figure size 432x288 with 1 Axes>"
            ]
          },
          "metadata": {}
        }
      ]
    },
    {
      "cell_type": "code",
      "source": [
        "threegraph = px.treemap(base_census, path = ['education', 'age'])\n",
        "threegraph.show()"
      ],
      "metadata": {
        "colab": {
          "base_uri": "https://localhost:8080/",
          "height": 542
        },
        "id": "m1TJQg6AruRM",
        "outputId": "91d6f525-8243-45cc-f5f9-6f2fd3837b36"
      },
      "execution_count": 71,
      "outputs": [
        {
          "output_type": "display_data",
          "data": {
            "text/html": [
              "<html>\n",
              "<head><meta charset=\"utf-8\" /></head>\n",
              "<body>\n",
              "    <div>            <script src=\"https://cdnjs.cloudflare.com/ajax/libs/mathjax/2.7.5/MathJax.js?config=TeX-AMS-MML_SVG\"></script><script type=\"text/javascript\">if (window.MathJax) {MathJax.Hub.Config({SVG: {font: \"STIX-Web\"}});}</script>                <script type=\"text/javascript\">window.PlotlyConfig = {MathJaxConfig: 'local'};</script>\n",
              "        <script src=\"https://cdn.plot.ly/plotly-2.8.3.min.js\"></script>                <div id=\"e8488a62-8de3-4c5c-9c1c-920202fc4362\" class=\"plotly-graph-div\" style=\"height:525px; width:100%;\"></div>            <script type=\"text/javascript\">                                    window.PLOTLYENV=window.PLOTLYENV || {};                                    if (document.getElementById(\"e8488a62-8de3-4c5c-9c1c-920202fc4362\")) {                    Plotly.newPlot(                        \"e8488a62-8de3-4c5c-9c1c-920202fc4362\",                        [{\"branchvalues\":\"total\",\"domain\":{\"x\":[0.0,1.0],\"y\":[0.0,1.0]},\"hovertemplate\":\"labels=%{label}<br>count=%{value}<br>parent=%{parent}<br>id=%{id}<extra></extra>\",\"ids\":[\" 10th/17\",\" 11th/17\",\" 12th/17\",\" 5th-6th/17\",\" 7th-8th/17\",\" 9th/17\",\" HS-grad/17\",\" Some-college/17\",\" 10th/18\",\" 11th/18\",\" 12th/18\",\" 5th-6th/18\",\" 7th-8th/18\",\" 9th/18\",\" HS-grad/18\",\" Masters/18\",\" Some-college/18\",\" 10th/19\",\" 11th/19\",\" 12th/19\",\" 1st-4th/19\",\" 5th-6th/19\",\" 7th-8th/19\",\" 9th/19\",\" Assoc-acdm/19\",\" Assoc-voc/19\",\" Bachelors/19\",\" HS-grad/19\",\" Preschool/19\",\" Some-college/19\",\" 10th/20\",\" 11th/20\",\" 12th/20\",\" 1st-4th/20\",\" 5th-6th/20\",\" 7th-8th/20\",\" 9th/20\",\" Assoc-acdm/20\",\" Assoc-voc/20\",\" Bachelors/20\",\" HS-grad/20\",\" Masters/20\",\" Preschool/20\",\" Some-college/20\",\" 10th/21\",\" 11th/21\",\" 12th/21\",\" 1st-4th/21\",\" 5th-6th/21\",\" 7th-8th/21\",\" 9th/21\",\" Assoc-acdm/21\",\" Assoc-voc/21\",\" Bachelors/21\",\" HS-grad/21\",\" Masters/21\",\" Preschool/21\",\" Some-college/21\",\" 10th/22\",\" 11th/22\",\" 12th/22\",\" 1st-4th/22\",\" 5th-6th/22\",\" 7th-8th/22\",\" 9th/22\",\" Assoc-acdm/22\",\" Assoc-voc/22\",\" Bachelors/22\",\" HS-grad/22\",\" Some-college/22\",\" 10th/23\",\" 11th/23\",\" 12th/23\",\" 1st-4th/23\",\" 5th-6th/23\",\" 7th-8th/23\",\" 9th/23\",\" Assoc-acdm/23\",\" Assoc-voc/23\",\" Bachelors/23\",\" HS-grad/23\",\" Masters/23\",\" Preschool/23\",\" Some-college/23\",\" 10th/24\",\" 11th/24\",\" 12th/24\",\" 1st-4th/24\",\" 5th-6th/24\",\" 7th-8th/24\",\" 9th/24\",\" Assoc-acdm/24\",\" Assoc-voc/24\",\" Bachelors/24\",\" Doctorate/24\",\" HS-grad/24\",\" Masters/24\",\" Preschool/24\",\" Some-college/24\",\" 10th/25\",\" 11th/25\",\" 12th/25\",\" 1st-4th/25\",\" 5th-6th/25\",\" 7th-8th/25\",\" 9th/25\",\" Assoc-acdm/25\",\" Assoc-voc/25\",\" Bachelors/25\",\" HS-grad/25\",\" Masters/25\",\" Preschool/25\",\" Prof-school/25\",\" Some-college/25\",\" 10th/26\",\" 11th/26\",\" 12th/26\",\" 5th-6th/26\",\" 7th-8th/26\",\" 9th/26\",\" Assoc-acdm/26\",\" Assoc-voc/26\",\" Bachelors/26\",\" HS-grad/26\",\" Masters/26\",\" Preschool/26\",\" Prof-school/26\",\" Some-college/26\",\" 10th/27\",\" 11th/27\",\" 12th/27\",\" 1st-4th/27\",\" 5th-6th/27\",\" 7th-8th/27\",\" 9th/27\",\" Assoc-acdm/27\",\" Assoc-voc/27\",\" Bachelors/27\",\" Doctorate/27\",\" HS-grad/27\",\" Masters/27\",\" Preschool/27\",\" Prof-school/27\",\" Some-college/27\",\" 10th/28\",\" 11th/28\",\" 12th/28\",\" 1st-4th/28\",\" 5th-6th/28\",\" 7th-8th/28\",\" 9th/28\",\" Assoc-acdm/28\",\" Assoc-voc/28\",\" Bachelors/28\",\" Doctorate/28\",\" HS-grad/28\",\" Masters/28\",\" Prof-school/28\",\" Some-college/28\",\" 10th/29\",\" 11th/29\",\" 12th/29\",\" 1st-4th/29\",\" 5th-6th/29\",\" 7th-8th/29\",\" 9th/29\",\" Assoc-acdm/29\",\" Assoc-voc/29\",\" Bachelors/29\",\" Doctorate/29\",\" HS-grad/29\",\" Masters/29\",\" Prof-school/29\",\" Some-college/29\",\" 10th/30\",\" 11th/30\",\" 12th/30\",\" 5th-6th/30\",\" 7th-8th/30\",\" 9th/30\",\" Assoc-acdm/30\",\" Assoc-voc/30\",\" Bachelors/30\",\" Doctorate/30\",\" HS-grad/30\",\" Masters/30\",\" Preschool/30\",\" Prof-school/30\",\" Some-college/30\",\" 10th/31\",\" 11th/31\",\" 12th/31\",\" 1st-4th/31\",\" 5th-6th/31\",\" 7th-8th/31\",\" 9th/31\",\" Assoc-acdm/31\",\" Assoc-voc/31\",\" Bachelors/31\",\" Doctorate/31\",\" HS-grad/31\",\" Masters/31\",\" Preschool/31\",\" Prof-school/31\",\" Some-college/31\",\" 10th/32\",\" 11th/32\",\" 12th/32\",\" 1st-4th/32\",\" 5th-6th/32\",\" 7th-8th/32\",\" 9th/32\",\" Assoc-acdm/32\",\" Assoc-voc/32\",\" Bachelors/32\",\" Doctorate/32\",\" HS-grad/32\",\" Masters/32\",\" Preschool/32\",\" Prof-school/32\",\" Some-college/32\",\" 10th/33\",\" 11th/33\",\" 12th/33\",\" 1st-4th/33\",\" 5th-6th/33\",\" 7th-8th/33\",\" 9th/33\",\" Assoc-acdm/33\",\" Assoc-voc/33\",\" Bachelors/33\",\" Doctorate/33\",\" HS-grad/33\",\" Masters/33\",\" Preschool/33\",\" Prof-school/33\",\" Some-college/33\",\" 10th/34\",\" 11th/34\",\" 12th/34\",\" 1st-4th/34\",\" 5th-6th/34\",\" 7th-8th/34\",\" 9th/34\",\" Assoc-acdm/34\",\" Assoc-voc/34\",\" Bachelors/34\",\" Doctorate/34\",\" HS-grad/34\",\" Masters/34\",\" Preschool/34\",\" Prof-school/34\",\" Some-college/34\",\" 10th/35\",\" 11th/35\",\" 12th/35\",\" 1st-4th/35\",\" 5th-6th/35\",\" 7th-8th/35\",\" 9th/35\",\" Assoc-acdm/35\",\" Assoc-voc/35\",\" Bachelors/35\",\" Doctorate/35\",\" HS-grad/35\",\" Masters/35\",\" Prof-school/35\",\" Some-college/35\",\" 10th/36\",\" 11th/36\",\" 12th/36\",\" 1st-4th/36\",\" 5th-6th/36\",\" 7th-8th/36\",\" 9th/36\",\" Assoc-acdm/36\",\" Assoc-voc/36\",\" Bachelors/36\",\" Doctorate/36\",\" HS-grad/36\",\" Masters/36\",\" Preschool/36\",\" Prof-school/36\",\" Some-college/36\",\" 10th/37\",\" 11th/37\",\" 12th/37\",\" 1st-4th/37\",\" 5th-6th/37\",\" 7th-8th/37\",\" 9th/37\",\" Assoc-acdm/37\",\" Assoc-voc/37\",\" Bachelors/37\",\" Doctorate/37\",\" HS-grad/37\",\" Masters/37\",\" Prof-school/37\",\" Some-college/37\",\" 10th/38\",\" 11th/38\",\" 12th/38\",\" 1st-4th/38\",\" 5th-6th/38\",\" 7th-8th/38\",\" 9th/38\",\" Assoc-acdm/38\",\" Assoc-voc/38\",\" Bachelors/38\",\" Doctorate/38\",\" HS-grad/38\",\" Masters/38\",\" Prof-school/38\",\" Some-college/38\",\" 10th/39\",\" 11th/39\",\" 12th/39\",\" 1st-4th/39\",\" 5th-6th/39\",\" 7th-8th/39\",\" 9th/39\",\" Assoc-acdm/39\",\" Assoc-voc/39\",\" Bachelors/39\",\" Doctorate/39\",\" HS-grad/39\",\" Masters/39\",\" Preschool/39\",\" Prof-school/39\",\" Some-college/39\",\" 10th/40\",\" 11th/40\",\" 12th/40\",\" 1st-4th/40\",\" 5th-6th/40\",\" 7th-8th/40\",\" 9th/40\",\" Assoc-acdm/40\",\" Assoc-voc/40\",\" Bachelors/40\",\" Doctorate/40\",\" HS-grad/40\",\" Masters/40\",\" Preschool/40\",\" Prof-school/40\",\" Some-college/40\",\" 10th/41\",\" 11th/41\",\" 12th/41\",\" 1st-4th/41\",\" 5th-6th/41\",\" 7th-8th/41\",\" 9th/41\",\" Assoc-acdm/41\",\" Assoc-voc/41\",\" Bachelors/41\",\" Doctorate/41\",\" HS-grad/41\",\" Masters/41\",\" Preschool/41\",\" Prof-school/41\",\" Some-college/41\",\" 10th/42\",\" 11th/42\",\" 12th/42\",\" 1st-4th/42\",\" 5th-6th/42\",\" 7th-8th/42\",\" 9th/42\",\" Assoc-acdm/42\",\" Assoc-voc/42\",\" Bachelors/42\",\" Doctorate/42\",\" HS-grad/42\",\" Masters/42\",\" Preschool/42\",\" Prof-school/42\",\" Some-college/42\",\" 10th/43\",\" 11th/43\",\" 12th/43\",\" 1st-4th/43\",\" 5th-6th/43\",\" 7th-8th/43\",\" 9th/43\",\" Assoc-acdm/43\",\" Assoc-voc/43\",\" Bachelors/43\",\" Doctorate/43\",\" HS-grad/43\",\" Masters/43\",\" Prof-school/43\",\" Some-college/43\",\" 10th/44\",\" 11th/44\",\" 12th/44\",\" 1st-4th/44\",\" 5th-6th/44\",\" 7th-8th/44\",\" 9th/44\",\" Assoc-acdm/44\",\" Assoc-voc/44\",\" Bachelors/44\",\" Doctorate/44\",\" HS-grad/44\",\" Masters/44\",\" Prof-school/44\",\" Some-college/44\",\" 10th/45\",\" 11th/45\",\" 12th/45\",\" 1st-4th/45\",\" 5th-6th/45\",\" 7th-8th/45\",\" 9th/45\",\" Assoc-acdm/45\",\" Assoc-voc/45\",\" Bachelors/45\",\" Doctorate/45\",\" HS-grad/45\",\" Masters/45\",\" Prof-school/45\",\" Some-college/45\",\" 10th/46\",\" 11th/46\",\" 12th/46\",\" 1st-4th/46\",\" 5th-6th/46\",\" 7th-8th/46\",\" 9th/46\",\" Assoc-acdm/46\",\" Assoc-voc/46\",\" Bachelors/46\",\" Doctorate/46\",\" HS-grad/46\",\" Masters/46\",\" Preschool/46\",\" Prof-school/46\",\" Some-college/46\",\" 10th/47\",\" 11th/47\",\" 12th/47\",\" 1st-4th/47\",\" 5th-6th/47\",\" 7th-8th/47\",\" 9th/47\",\" Assoc-acdm/47\",\" Assoc-voc/47\",\" Bachelors/47\",\" Doctorate/47\",\" HS-grad/47\",\" Masters/47\",\" Prof-school/47\",\" Some-college/47\",\" 10th/48\",\" 11th/48\",\" 12th/48\",\" 1st-4th/48\",\" 5th-6th/48\",\" 7th-8th/48\",\" 9th/48\",\" Assoc-acdm/48\",\" Assoc-voc/48\",\" Bachelors/48\",\" Doctorate/48\",\" HS-grad/48\",\" Masters/48\",\" Preschool/48\",\" Prof-school/48\",\" Some-college/48\",\" 10th/49\",\" 11th/49\",\" 12th/49\",\" 1st-4th/49\",\" 5th-6th/49\",\" 7th-8th/49\",\" 9th/49\",\" Assoc-acdm/49\",\" Assoc-voc/49\",\" Bachelors/49\",\" Doctorate/49\",\" HS-grad/49\",\" Masters/49\",\" Preschool/49\",\" Prof-school/49\",\" Some-college/49\",\" 10th/50\",\" 11th/50\",\" 12th/50\",\" 1st-4th/50\",\" 5th-6th/50\",\" 7th-8th/50\",\" 9th/50\",\" Assoc-acdm/50\",\" Assoc-voc/50\",\" Bachelors/50\",\" Doctorate/50\",\" HS-grad/50\",\" Masters/50\",\" Prof-school/50\",\" Some-college/50\",\" 10th/51\",\" 11th/51\",\" 12th/51\",\" 1st-4th/51\",\" 5th-6th/51\",\" 7th-8th/51\",\" 9th/51\",\" Assoc-acdm/51\",\" Assoc-voc/51\",\" Bachelors/51\",\" Doctorate/51\",\" HS-grad/51\",\" Masters/51\",\" Preschool/51\",\" Prof-school/51\",\" Some-college/51\",\" 10th/52\",\" 11th/52\",\" 12th/52\",\" 1st-4th/52\",\" 5th-6th/52\",\" 7th-8th/52\",\" 9th/52\",\" Assoc-acdm/52\",\" Assoc-voc/52\",\" Bachelors/52\",\" Doctorate/52\",\" HS-grad/52\",\" Masters/52\",\" Preschool/52\",\" Prof-school/52\",\" Some-college/52\",\" 10th/53\",\" 11th/53\",\" 12th/53\",\" 1st-4th/53\",\" 5th-6th/53\",\" 7th-8th/53\",\" 9th/53\",\" Assoc-acdm/53\",\" Assoc-voc/53\",\" Bachelors/53\",\" Doctorate/53\",\" HS-grad/53\",\" Masters/53\",\" Preschool/53\",\" Prof-school/53\",\" Some-college/53\",\" 10th/54\",\" 11th/54\",\" 12th/54\",\" 1st-4th/54\",\" 5th-6th/54\",\" 7th-8th/54\",\" 9th/54\",\" Assoc-acdm/54\",\" Assoc-voc/54\",\" Bachelors/54\",\" Doctorate/54\",\" HS-grad/54\",\" Masters/54\",\" Preschool/54\",\" Prof-school/54\",\" Some-college/54\",\" 10th/55\",\" 11th/55\",\" 12th/55\",\" 1st-4th/55\",\" 5th-6th/55\",\" 7th-8th/55\",\" 9th/55\",\" Assoc-acdm/55\",\" Assoc-voc/55\",\" Bachelors/55\",\" Doctorate/55\",\" HS-grad/55\",\" Masters/55\",\" Prof-school/55\",\" Some-college/55\",\" 10th/56\",\" 11th/56\",\" 12th/56\",\" 1st-4th/56\",\" 5th-6th/56\",\" 7th-8th/56\",\" 9th/56\",\" Assoc-acdm/56\",\" Assoc-voc/56\",\" Bachelors/56\",\" Doctorate/56\",\" HS-grad/56\",\" Masters/56\",\" Prof-school/56\",\" Some-college/56\",\" 10th/57\",\" 11th/57\",\" 12th/57\",\" 1st-4th/57\",\" 5th-6th/57\",\" 7th-8th/57\",\" 9th/57\",\" Assoc-acdm/57\",\" Assoc-voc/57\",\" Bachelors/57\",\" Doctorate/57\",\" HS-grad/57\",\" Masters/57\",\" Prof-school/57\",\" Some-college/57\",\" 10th/58\",\" 11th/58\",\" 12th/58\",\" 1st-4th/58\",\" 5th-6th/58\",\" 7th-8th/58\",\" 9th/58\",\" Assoc-acdm/58\",\" Assoc-voc/58\",\" Bachelors/58\",\" Doctorate/58\",\" HS-grad/58\",\" Masters/58\",\" Prof-school/58\",\" Some-college/58\",\" 10th/59\",\" 11th/59\",\" 12th/59\",\" 1st-4th/59\",\" 5th-6th/59\",\" 7th-8th/59\",\" 9th/59\",\" Assoc-acdm/59\",\" Assoc-voc/59\",\" Bachelors/59\",\" Doctorate/59\",\" HS-grad/59\",\" Masters/59\",\" Preschool/59\",\" Prof-school/59\",\" Some-college/59\",\" 10th/60\",\" 11th/60\",\" 12th/60\",\" 1st-4th/60\",\" 5th-6th/60\",\" 7th-8th/60\",\" 9th/60\",\" Assoc-acdm/60\",\" Assoc-voc/60\",\" Bachelors/60\",\" Doctorate/60\",\" HS-grad/60\",\" Masters/60\",\" Prof-school/60\",\" Some-college/60\",\" 10th/61\",\" 11th/61\",\" 12th/61\",\" 1st-4th/61\",\" 5th-6th/61\",\" 7th-8th/61\",\" 9th/61\",\" Assoc-acdm/61\",\" Assoc-voc/61\",\" Bachelors/61\",\" Doctorate/61\",\" HS-grad/61\",\" Masters/61\",\" Preschool/61\",\" Prof-school/61\",\" Some-college/61\",\" 10th/62\",\" 11th/62\",\" 12th/62\",\" 5th-6th/62\",\" 7th-8th/62\",\" 9th/62\",\" Assoc-acdm/62\",\" Assoc-voc/62\",\" Bachelors/62\",\" Doctorate/62\",\" HS-grad/62\",\" Masters/62\",\" Prof-school/62\",\" Some-college/62\",\" 10th/63\",\" 11th/63\",\" 12th/63\",\" 1st-4th/63\",\" 5th-6th/63\",\" 7th-8th/63\",\" 9th/63\",\" Assoc-acdm/63\",\" Assoc-voc/63\",\" Bachelors/63\",\" Doctorate/63\",\" HS-grad/63\",\" Masters/63\",\" Preschool/63\",\" Prof-school/63\",\" Some-college/63\",\" 10th/64\",\" 11th/64\",\" 12th/64\",\" 1st-4th/64\",\" 5th-6th/64\",\" 7th-8th/64\",\" 9th/64\",\" Assoc-acdm/64\",\" Assoc-voc/64\",\" Bachelors/64\",\" Doctorate/64\",\" HS-grad/64\",\" Masters/64\",\" Preschool/64\",\" Prof-school/64\",\" Some-college/64\",\" 10th/65\",\" 11th/65\",\" 12th/65\",\" 5th-6th/65\",\" 7th-8th/65\",\" 9th/65\",\" Assoc-acdm/65\",\" Assoc-voc/65\",\" Bachelors/65\",\" Doctorate/65\",\" HS-grad/65\",\" Masters/65\",\" Preschool/65\",\" Prof-school/65\",\" Some-college/65\",\" 10th/66\",\" 11th/66\",\" 1st-4th/66\",\" 5th-6th/66\",\" 7th-8th/66\",\" 9th/66\",\" Assoc-acdm/66\",\" Assoc-voc/66\",\" Bachelors/66\",\" Doctorate/66\",\" HS-grad/66\",\" Masters/66\",\" Preschool/66\",\" Prof-school/66\",\" Some-college/66\",\" 10th/67\",\" 11th/67\",\" 12th/67\",\" 1st-4th/67\",\" 5th-6th/67\",\" 7th-8th/67\",\" 9th/67\",\" Assoc-acdm/67\",\" Assoc-voc/67\",\" Bachelors/67\",\" Doctorate/67\",\" HS-grad/67\",\" Masters/67\",\" Prof-school/67\",\" Some-college/67\",\" 10th/68\",\" 11th/68\",\" 12th/68\",\" 1st-4th/68\",\" 5th-6th/68\",\" 7th-8th/68\",\" 9th/68\",\" Assoc-acdm/68\",\" Assoc-voc/68\",\" Bachelors/68\",\" Doctorate/68\",\" HS-grad/68\",\" Masters/68\",\" Preschool/68\",\" Prof-school/68\",\" Some-college/68\",\" 10th/69\",\" 11th/69\",\" 12th/69\",\" 1st-4th/69\",\" 5th-6th/69\",\" 7th-8th/69\",\" 9th/69\",\" Assoc-acdm/69\",\" Assoc-voc/69\",\" Bachelors/69\",\" Doctorate/69\",\" HS-grad/69\",\" Masters/69\",\" Prof-school/69\",\" Some-college/69\",\" 10th/70\",\" 11th/70\",\" 5th-6th/70\",\" 7th-8th/70\",\" 9th/70\",\" Assoc-voc/70\",\" Bachelors/70\",\" Doctorate/70\",\" HS-grad/70\",\" Masters/70\",\" Prof-school/70\",\" Some-college/70\",\" 10th/71\",\" 11th/71\",\" 12th/71\",\" 1st-4th/71\",\" 5th-6th/71\",\" 7th-8th/71\",\" 9th/71\",\" Assoc-acdm/71\",\" Assoc-voc/71\",\" Bachelors/71\",\" Doctorate/71\",\" HS-grad/71\",\" Masters/71\",\" Preschool/71\",\" Prof-school/71\",\" Some-college/71\",\" 10th/72\",\" 11th/72\",\" 1st-4th/72\",\" 5th-6th/72\",\" 7th-8th/72\",\" 9th/72\",\" Assoc-acdm/72\",\" Assoc-voc/72\",\" Bachelors/72\",\" Doctorate/72\",\" HS-grad/72\",\" Masters/72\",\" Prof-school/72\",\" Some-college/72\",\" 10th/73\",\" 11th/73\",\" 12th/73\",\" 1st-4th/73\",\" 5th-6th/73\",\" 7th-8th/73\",\" 9th/73\",\" Assoc-voc/73\",\" Bachelors/73\",\" HS-grad/73\",\" Masters/73\",\" Prof-school/73\",\" Some-college/73\",\" 10th/74\",\" 1st-4th/74\",\" 5th-6th/74\",\" 7th-8th/74\",\" 9th/74\",\" Assoc-acdm/74\",\" Bachelors/74\",\" Doctorate/74\",\" HS-grad/74\",\" Masters/74\",\" Prof-school/74\",\" Some-college/74\",\" 10th/75\",\" 11th/75\",\" 1st-4th/75\",\" 5th-6th/75\",\" 9th/75\",\" Assoc-voc/75\",\" Bachelors/75\",\" Doctorate/75\",\" HS-grad/75\",\" Masters/75\",\" Preschool/75\",\" Prof-school/75\",\" Some-college/75\",\" 10th/76\",\" 11th/76\",\" 5th-6th/76\",\" 7th-8th/76\",\" 9th/76\",\" Bachelors/76\",\" HS-grad/76\",\" Masters/76\",\" Prof-school/76\",\" Some-college/76\",\" 5th-6th/77\",\" 7th-8th/77\",\" 9th/77\",\" Assoc-voc/77\",\" Bachelors/77\",\" Doctorate/77\",\" HS-grad/77\",\" Masters/77\",\" Prof-school/77\",\" Some-college/77\",\" 11th/78\",\" 5th-6th/78\",\" 7th-8th/78\",\" Assoc-acdm/78\",\" Bachelors/78\",\" HS-grad/78\",\" Masters/78\",\" Some-college/78\",\" 11th/79\",\" 12th/79\",\" 7th-8th/79\",\" Assoc-acdm/79\",\" Assoc-voc/79\",\" Bachelors/79\",\" Doctorate/79\",\" HS-grad/79\",\" Masters/79\",\" Prof-school/79\",\" Some-college/79\",\" 11th/80\",\" 7th-8th/80\",\" Assoc-acdm/80\",\" Assoc-voc/80\",\" Doctorate/80\",\" HS-grad/80\",\" Masters/80\",\" Prof-school/80\",\" Some-college/80\",\" 10th/81\",\" 1st-4th/81\",\" 7th-8th/81\",\" 9th/81\",\" Assoc-voc/81\",\" Bachelors/81\",\" HS-grad/81\",\" Masters/81\",\" Prof-school/81\",\" Some-college/81\",\" 10th/82\",\" 5th-6th/82\",\" 7th-8th/82\",\" Assoc-voc/82\",\" HS-grad/82\",\" Some-college/82\",\" 10th/83\",\" Bachelors/83\",\" HS-grad/83\",\" 5th-6th/84\",\" 7th-8th/84\",\" Assoc-voc/84\",\" Bachelors/84\",\" HS-grad/84\",\" Masters/84\",\" Some-college/84\",\" Bachelors/85\",\" HS-grad/85\",\" Masters/86\",\" HS-grad/87\",\" Prof-school/88\",\" Some-college/88\",\" 10th/90\",\" 11th/90\",\" 1st-4th/90\",\" 7th-8th/90\",\" 9th/90\",\" Assoc-acdm/90\",\" Bachelors/90\",\" HS-grad/90\",\" Masters/90\",\" Prof-school/90\",\" Some-college/90\",\" 10th\",\" 11th\",\" 12th\",\" 1st-4th\",\" 5th-6th\",\" 7th-8th\",\" 9th\",\" Assoc-acdm\",\" Assoc-voc\",\" Bachelors\",\" Doctorate\",\" HS-grad\",\" Masters\",\" Preschool\",\" Prof-school\",\" Some-college\"],\"labels\":[\"17\",\"17\",\"17\",\"17\",\"17\",\"17\",\"17\",\"17\",\"18\",\"18\",\"18\",\"18\",\"18\",\"18\",\"18\",\"18\",\"18\",\"19\",\"19\",\"19\",\"19\",\"19\",\"19\",\"19\",\"19\",\"19\",\"19\",\"19\",\"19\",\"19\",\"20\",\"20\",\"20\",\"20\",\"20\",\"20\",\"20\",\"20\",\"20\",\"20\",\"20\",\"20\",\"20\",\"20\",\"21\",\"21\",\"21\",\"21\",\"21\",\"21\",\"21\",\"21\",\"21\",\"21\",\"21\",\"21\",\"21\",\"21\",\"22\",\"22\",\"22\",\"22\",\"22\",\"22\",\"22\",\"22\",\"22\",\"22\",\"22\",\"22\",\"23\",\"23\",\"23\",\"23\",\"23\",\"23\",\"23\",\"23\",\"23\",\"23\",\"23\",\"23\",\"23\",\"23\",\"24\",\"24\",\"24\",\"24\",\"24\",\"24\",\"24\",\"24\",\"24\",\"24\",\"24\",\"24\",\"24\",\"24\",\"24\",\"25\",\"25\",\"25\",\"25\",\"25\",\"25\",\"25\",\"25\",\"25\",\"25\",\"25\",\"25\",\"25\",\"25\",\"25\",\"26\",\"26\",\"26\",\"26\",\"26\",\"26\",\"26\",\"26\",\"26\",\"26\",\"26\",\"26\",\"26\",\"26\",\"27\",\"27\",\"27\",\"27\",\"27\",\"27\",\"27\",\"27\",\"27\",\"27\",\"27\",\"27\",\"27\",\"27\",\"27\",\"27\",\"28\",\"28\",\"28\",\"28\",\"28\",\"28\",\"28\",\"28\",\"28\",\"28\",\"28\",\"28\",\"28\",\"28\",\"28\",\"29\",\"29\",\"29\",\"29\",\"29\",\"29\",\"29\",\"29\",\"29\",\"29\",\"29\",\"29\",\"29\",\"29\",\"29\",\"30\",\"30\",\"30\",\"30\",\"30\",\"30\",\"30\",\"30\",\"30\",\"30\",\"30\",\"30\",\"30\",\"30\",\"30\",\"31\",\"31\",\"31\",\"31\",\"31\",\"31\",\"31\",\"31\",\"31\",\"31\",\"31\",\"31\",\"31\",\"31\",\"31\",\"31\",\"32\",\"32\",\"32\",\"32\",\"32\",\"32\",\"32\",\"32\",\"32\",\"32\",\"32\",\"32\",\"32\",\"32\",\"32\",\"32\",\"33\",\"33\",\"33\",\"33\",\"33\",\"33\",\"33\",\"33\",\"33\",\"33\",\"33\",\"33\",\"33\",\"33\",\"33\",\"33\",\"34\",\"34\",\"34\",\"34\",\"34\",\"34\",\"34\",\"34\",\"34\",\"34\",\"34\",\"34\",\"34\",\"34\",\"34\",\"34\",\"35\",\"35\",\"35\",\"35\",\"35\",\"35\",\"35\",\"35\",\"35\",\"35\",\"35\",\"35\",\"35\",\"35\",\"35\",\"36\",\"36\",\"36\",\"36\",\"36\",\"36\",\"36\",\"36\",\"36\",\"36\",\"36\",\"36\",\"36\",\"36\",\"36\",\"36\",\"37\",\"37\",\"37\",\"37\",\"37\",\"37\",\"37\",\"37\",\"37\",\"37\",\"37\",\"37\",\"37\",\"37\",\"37\",\"38\",\"38\",\"38\",\"38\",\"38\",\"38\",\"38\",\"38\",\"38\",\"38\",\"38\",\"38\",\"38\",\"38\",\"38\",\"39\",\"39\",\"39\",\"39\",\"39\",\"39\",\"39\",\"39\",\"39\",\"39\",\"39\",\"39\",\"39\",\"39\",\"39\",\"39\",\"40\",\"40\",\"40\",\"40\",\"40\",\"40\",\"40\",\"40\",\"40\",\"40\",\"40\",\"40\",\"40\",\"40\",\"40\",\"40\",\"41\",\"41\",\"41\",\"41\",\"41\",\"41\",\"41\",\"41\",\"41\",\"41\",\"41\",\"41\",\"41\",\"41\",\"41\",\"41\",\"42\",\"42\",\"42\",\"42\",\"42\",\"42\",\"42\",\"42\",\"42\",\"42\",\"42\",\"42\",\"42\",\"42\",\"42\",\"42\",\"43\",\"43\",\"43\",\"43\",\"43\",\"43\",\"43\",\"43\",\"43\",\"43\",\"43\",\"43\",\"43\",\"43\",\"43\",\"44\",\"44\",\"44\",\"44\",\"44\",\"44\",\"44\",\"44\",\"44\",\"44\",\"44\",\"44\",\"44\",\"44\",\"44\",\"45\",\"45\",\"45\",\"45\",\"45\",\"45\",\"45\",\"45\",\"45\",\"45\",\"45\",\"45\",\"45\",\"45\",\"45\",\"46\",\"46\",\"46\",\"46\",\"46\",\"46\",\"46\",\"46\",\"46\",\"46\",\"46\",\"46\",\"46\",\"46\",\"46\",\"46\",\"47\",\"47\",\"47\",\"47\",\"47\",\"47\",\"47\",\"47\",\"47\",\"47\",\"47\",\"47\",\"47\",\"47\",\"47\",\"48\",\"48\",\"48\",\"48\",\"48\",\"48\",\"48\",\"48\",\"48\",\"48\",\"48\",\"48\",\"48\",\"48\",\"48\",\"48\",\"49\",\"49\",\"49\",\"49\",\"49\",\"49\",\"49\",\"49\",\"49\",\"49\",\"49\",\"49\",\"49\",\"49\",\"49\",\"49\",\"50\",\"50\",\"50\",\"50\",\"50\",\"50\",\"50\",\"50\",\"50\",\"50\",\"50\",\"50\",\"50\",\"50\",\"50\",\"51\",\"51\",\"51\",\"51\",\"51\",\"51\",\"51\",\"51\",\"51\",\"51\",\"51\",\"51\",\"51\",\"51\",\"51\",\"51\",\"52\",\"52\",\"52\",\"52\",\"52\",\"52\",\"52\",\"52\",\"52\",\"52\",\"52\",\"52\",\"52\",\"52\",\"52\",\"52\",\"53\",\"53\",\"53\",\"53\",\"53\",\"53\",\"53\",\"53\",\"53\",\"53\",\"53\",\"53\",\"53\",\"53\",\"53\",\"53\",\"54\",\"54\",\"54\",\"54\",\"54\",\"54\",\"54\",\"54\",\"54\",\"54\",\"54\",\"54\",\"54\",\"54\",\"54\",\"54\",\"55\",\"55\",\"55\",\"55\",\"55\",\"55\",\"55\",\"55\",\"55\",\"55\",\"55\",\"55\",\"55\",\"55\",\"55\",\"56\",\"56\",\"56\",\"56\",\"56\",\"56\",\"56\",\"56\",\"56\",\"56\",\"56\",\"56\",\"56\",\"56\",\"56\",\"57\",\"57\",\"57\",\"57\",\"57\",\"57\",\"57\",\"57\",\"57\",\"57\",\"57\",\"57\",\"57\",\"57\",\"57\",\"58\",\"58\",\"58\",\"58\",\"58\",\"58\",\"58\",\"58\",\"58\",\"58\",\"58\",\"58\",\"58\",\"58\",\"58\",\"59\",\"59\",\"59\",\"59\",\"59\",\"59\",\"59\",\"59\",\"59\",\"59\",\"59\",\"59\",\"59\",\"59\",\"59\",\"59\",\"60\",\"60\",\"60\",\"60\",\"60\",\"60\",\"60\",\"60\",\"60\",\"60\",\"60\",\"60\",\"60\",\"60\",\"60\",\"61\",\"61\",\"61\",\"61\",\"61\",\"61\",\"61\",\"61\",\"61\",\"61\",\"61\",\"61\",\"61\",\"61\",\"61\",\"61\",\"62\",\"62\",\"62\",\"62\",\"62\",\"62\",\"62\",\"62\",\"62\",\"62\",\"62\",\"62\",\"62\",\"62\",\"63\",\"63\",\"63\",\"63\",\"63\",\"63\",\"63\",\"63\",\"63\",\"63\",\"63\",\"63\",\"63\",\"63\",\"63\",\"63\",\"64\",\"64\",\"64\",\"64\",\"64\",\"64\",\"64\",\"64\",\"64\",\"64\",\"64\",\"64\",\"64\",\"64\",\"64\",\"64\",\"65\",\"65\",\"65\",\"65\",\"65\",\"65\",\"65\",\"65\",\"65\",\"65\",\"65\",\"65\",\"65\",\"65\",\"65\",\"66\",\"66\",\"66\",\"66\",\"66\",\"66\",\"66\",\"66\",\"66\",\"66\",\"66\",\"66\",\"66\",\"66\",\"66\",\"67\",\"67\",\"67\",\"67\",\"67\",\"67\",\"67\",\"67\",\"67\",\"67\",\"67\",\"67\",\"67\",\"67\",\"67\",\"68\",\"68\",\"68\",\"68\",\"68\",\"68\",\"68\",\"68\",\"68\",\"68\",\"68\",\"68\",\"68\",\"68\",\"68\",\"68\",\"69\",\"69\",\"69\",\"69\",\"69\",\"69\",\"69\",\"69\",\"69\",\"69\",\"69\",\"69\",\"69\",\"69\",\"69\",\"70\",\"70\",\"70\",\"70\",\"70\",\"70\",\"70\",\"70\",\"70\",\"70\",\"70\",\"70\",\"71\",\"71\",\"71\",\"71\",\"71\",\"71\",\"71\",\"71\",\"71\",\"71\",\"71\",\"71\",\"71\",\"71\",\"71\",\"71\",\"72\",\"72\",\"72\",\"72\",\"72\",\"72\",\"72\",\"72\",\"72\",\"72\",\"72\",\"72\",\"72\",\"72\",\"73\",\"73\",\"73\",\"73\",\"73\",\"73\",\"73\",\"73\",\"73\",\"73\",\"73\",\"73\",\"73\",\"74\",\"74\",\"74\",\"74\",\"74\",\"74\",\"74\",\"74\",\"74\",\"74\",\"74\",\"74\",\"75\",\"75\",\"75\",\"75\",\"75\",\"75\",\"75\",\"75\",\"75\",\"75\",\"75\",\"75\",\"75\",\"76\",\"76\",\"76\",\"76\",\"76\",\"76\",\"76\",\"76\",\"76\",\"76\",\"77\",\"77\",\"77\",\"77\",\"77\",\"77\",\"77\",\"77\",\"77\",\"77\",\"78\",\"78\",\"78\",\"78\",\"78\",\"78\",\"78\",\"78\",\"79\",\"79\",\"79\",\"79\",\"79\",\"79\",\"79\",\"79\",\"79\",\"79\",\"79\",\"80\",\"80\",\"80\",\"80\",\"80\",\"80\",\"80\",\"80\",\"80\",\"81\",\"81\",\"81\",\"81\",\"81\",\"81\",\"81\",\"81\",\"81\",\"81\",\"82\",\"82\",\"82\",\"82\",\"82\",\"82\",\"83\",\"83\",\"83\",\"84\",\"84\",\"84\",\"84\",\"84\",\"84\",\"84\",\"85\",\"85\",\"86\",\"87\",\"88\",\"88\",\"90\",\"90\",\"90\",\"90\",\"90\",\"90\",\"90\",\"90\",\"90\",\"90\",\"90\",\" 10th\",\" 11th\",\" 12th\",\" 1st-4th\",\" 5th-6th\",\" 7th-8th\",\" 9th\",\" Assoc-acdm\",\" Assoc-voc\",\" Bachelors\",\" Doctorate\",\" HS-grad\",\" Masters\",\" Preschool\",\" Prof-school\",\" Some-college\"],\"name\":\"\",\"parents\":[\" 10th\",\" 11th\",\" 12th\",\" 5th-6th\",\" 7th-8th\",\" 9th\",\" HS-grad\",\" Some-college\",\" 10th\",\" 11th\",\" 12th\",\" 5th-6th\",\" 7th-8th\",\" 9th\",\" HS-grad\",\" Masters\",\" Some-college\",\" 10th\",\" 11th\",\" 12th\",\" 1st-4th\",\" 5th-6th\",\" 7th-8th\",\" 9th\",\" Assoc-acdm\",\" Assoc-voc\",\" Bachelors\",\" HS-grad\",\" Preschool\",\" Some-college\",\" 10th\",\" 11th\",\" 12th\",\" 1st-4th\",\" 5th-6th\",\" 7th-8th\",\" 9th\",\" Assoc-acdm\",\" Assoc-voc\",\" Bachelors\",\" HS-grad\",\" Masters\",\" Preschool\",\" Some-college\",\" 10th\",\" 11th\",\" 12th\",\" 1st-4th\",\" 5th-6th\",\" 7th-8th\",\" 9th\",\" Assoc-acdm\",\" Assoc-voc\",\" Bachelors\",\" HS-grad\",\" Masters\",\" Preschool\",\" Some-college\",\" 10th\",\" 11th\",\" 12th\",\" 1st-4th\",\" 5th-6th\",\" 7th-8th\",\" 9th\",\" Assoc-acdm\",\" Assoc-voc\",\" Bachelors\",\" HS-grad\",\" Some-college\",\" 10th\",\" 11th\",\" 12th\",\" 1st-4th\",\" 5th-6th\",\" 7th-8th\",\" 9th\",\" Assoc-acdm\",\" Assoc-voc\",\" Bachelors\",\" HS-grad\",\" Masters\",\" Preschool\",\" Some-college\",\" 10th\",\" 11th\",\" 12th\",\" 1st-4th\",\" 5th-6th\",\" 7th-8th\",\" 9th\",\" Assoc-acdm\",\" Assoc-voc\",\" Bachelors\",\" Doctorate\",\" HS-grad\",\" Masters\",\" Preschool\",\" Some-college\",\" 10th\",\" 11th\",\" 12th\",\" 1st-4th\",\" 5th-6th\",\" 7th-8th\",\" 9th\",\" Assoc-acdm\",\" Assoc-voc\",\" Bachelors\",\" HS-grad\",\" Masters\",\" Preschool\",\" Prof-school\",\" Some-college\",\" 10th\",\" 11th\",\" 12th\",\" 5th-6th\",\" 7th-8th\",\" 9th\",\" Assoc-acdm\",\" Assoc-voc\",\" Bachelors\",\" HS-grad\",\" Masters\",\" Preschool\",\" Prof-school\",\" Some-college\",\" 10th\",\" 11th\",\" 12th\",\" 1st-4th\",\" 5th-6th\",\" 7th-8th\",\" 9th\",\" Assoc-acdm\",\" Assoc-voc\",\" Bachelors\",\" Doctorate\",\" HS-grad\",\" Masters\",\" Preschool\",\" Prof-school\",\" Some-college\",\" 10th\",\" 11th\",\" 12th\",\" 1st-4th\",\" 5th-6th\",\" 7th-8th\",\" 9th\",\" Assoc-acdm\",\" Assoc-voc\",\" Bachelors\",\" Doctorate\",\" HS-grad\",\" Masters\",\" Prof-school\",\" Some-college\",\" 10th\",\" 11th\",\" 12th\",\" 1st-4th\",\" 5th-6th\",\" 7th-8th\",\" 9th\",\" Assoc-acdm\",\" Assoc-voc\",\" Bachelors\",\" Doctorate\",\" HS-grad\",\" Masters\",\" Prof-school\",\" Some-college\",\" 10th\",\" 11th\",\" 12th\",\" 5th-6th\",\" 7th-8th\",\" 9th\",\" Assoc-acdm\",\" Assoc-voc\",\" Bachelors\",\" Doctorate\",\" HS-grad\",\" Masters\",\" Preschool\",\" Prof-school\",\" Some-college\",\" 10th\",\" 11th\",\" 12th\",\" 1st-4th\",\" 5th-6th\",\" 7th-8th\",\" 9th\",\" Assoc-acdm\",\" Assoc-voc\",\" Bachelors\",\" Doctorate\",\" HS-grad\",\" Masters\",\" Preschool\",\" Prof-school\",\" Some-college\",\" 10th\",\" 11th\",\" 12th\",\" 1st-4th\",\" 5th-6th\",\" 7th-8th\",\" 9th\",\" Assoc-acdm\",\" Assoc-voc\",\" Bachelors\",\" Doctorate\",\" HS-grad\",\" Masters\",\" Preschool\",\" Prof-school\",\" Some-college\",\" 10th\",\" 11th\",\" 12th\",\" 1st-4th\",\" 5th-6th\",\" 7th-8th\",\" 9th\",\" Assoc-acdm\",\" Assoc-voc\",\" Bachelors\",\" Doctorate\",\" HS-grad\",\" Masters\",\" Preschool\",\" Prof-school\",\" Some-college\",\" 10th\",\" 11th\",\" 12th\",\" 1st-4th\",\" 5th-6th\",\" 7th-8th\",\" 9th\",\" Assoc-acdm\",\" Assoc-voc\",\" Bachelors\",\" Doctorate\",\" HS-grad\",\" Masters\",\" Preschool\",\" Prof-school\",\" Some-college\",\" 10th\",\" 11th\",\" 12th\",\" 1st-4th\",\" 5th-6th\",\" 7th-8th\",\" 9th\",\" Assoc-acdm\",\" Assoc-voc\",\" Bachelors\",\" Doctorate\",\" HS-grad\",\" Masters\",\" Prof-school\",\" Some-college\",\" 10th\",\" 11th\",\" 12th\",\" 1st-4th\",\" 5th-6th\",\" 7th-8th\",\" 9th\",\" Assoc-acdm\",\" Assoc-voc\",\" Bachelors\",\" Doctorate\",\" HS-grad\",\" Masters\",\" Preschool\",\" Prof-school\",\" Some-college\",\" 10th\",\" 11th\",\" 12th\",\" 1st-4th\",\" 5th-6th\",\" 7th-8th\",\" 9th\",\" Assoc-acdm\",\" Assoc-voc\",\" Bachelors\",\" Doctorate\",\" HS-grad\",\" Masters\",\" Prof-school\",\" Some-college\",\" 10th\",\" 11th\",\" 12th\",\" 1st-4th\",\" 5th-6th\",\" 7th-8th\",\" 9th\",\" Assoc-acdm\",\" Assoc-voc\",\" Bachelors\",\" Doctorate\",\" HS-grad\",\" Masters\",\" Prof-school\",\" Some-college\",\" 10th\",\" 11th\",\" 12th\",\" 1st-4th\",\" 5th-6th\",\" 7th-8th\",\" 9th\",\" Assoc-acdm\",\" Assoc-voc\",\" Bachelors\",\" Doctorate\",\" HS-grad\",\" Masters\",\" Preschool\",\" Prof-school\",\" Some-college\",\" 10th\",\" 11th\",\" 12th\",\" 1st-4th\",\" 5th-6th\",\" 7th-8th\",\" 9th\",\" Assoc-acdm\",\" Assoc-voc\",\" Bachelors\",\" Doctorate\",\" HS-grad\",\" Masters\",\" Preschool\",\" Prof-school\",\" Some-college\",\" 10th\",\" 11th\",\" 12th\",\" 1st-4th\",\" 5th-6th\",\" 7th-8th\",\" 9th\",\" Assoc-acdm\",\" Assoc-voc\",\" Bachelors\",\" Doctorate\",\" HS-grad\",\" Masters\",\" Preschool\",\" Prof-school\",\" Some-college\",\" 10th\",\" 11th\",\" 12th\",\" 1st-4th\",\" 5th-6th\",\" 7th-8th\",\" 9th\",\" Assoc-acdm\",\" Assoc-voc\",\" Bachelors\",\" Doctorate\",\" HS-grad\",\" Masters\",\" Preschool\",\" Prof-school\",\" Some-college\",\" 10th\",\" 11th\",\" 12th\",\" 1st-4th\",\" 5th-6th\",\" 7th-8th\",\" 9th\",\" Assoc-acdm\",\" Assoc-voc\",\" Bachelors\",\" Doctorate\",\" HS-grad\",\" Masters\",\" Prof-school\",\" Some-college\",\" 10th\",\" 11th\",\" 12th\",\" 1st-4th\",\" 5th-6th\",\" 7th-8th\",\" 9th\",\" Assoc-acdm\",\" Assoc-voc\",\" Bachelors\",\" Doctorate\",\" HS-grad\",\" Masters\",\" Prof-school\",\" Some-college\",\" 10th\",\" 11th\",\" 12th\",\" 1st-4th\",\" 5th-6th\",\" 7th-8th\",\" 9th\",\" Assoc-acdm\",\" Assoc-voc\",\" Bachelors\",\" Doctorate\",\" HS-grad\",\" Masters\",\" Prof-school\",\" Some-college\",\" 10th\",\" 11th\",\" 12th\",\" 1st-4th\",\" 5th-6th\",\" 7th-8th\",\" 9th\",\" Assoc-acdm\",\" Assoc-voc\",\" Bachelors\",\" Doctorate\",\" HS-grad\",\" Masters\",\" Preschool\",\" Prof-school\",\" Some-college\",\" 10th\",\" 11th\",\" 12th\",\" 1st-4th\",\" 5th-6th\",\" 7th-8th\",\" 9th\",\" Assoc-acdm\",\" Assoc-voc\",\" Bachelors\",\" Doctorate\",\" HS-grad\",\" Masters\",\" Prof-school\",\" Some-college\",\" 10th\",\" 11th\",\" 12th\",\" 1st-4th\",\" 5th-6th\",\" 7th-8th\",\" 9th\",\" Assoc-acdm\",\" Assoc-voc\",\" Bachelors\",\" Doctorate\",\" HS-grad\",\" Masters\",\" Preschool\",\" Prof-school\",\" Some-college\",\" 10th\",\" 11th\",\" 12th\",\" 1st-4th\",\" 5th-6th\",\" 7th-8th\",\" 9th\",\" Assoc-acdm\",\" Assoc-voc\",\" Bachelors\",\" Doctorate\",\" HS-grad\",\" Masters\",\" Preschool\",\" Prof-school\",\" Some-college\",\" 10th\",\" 11th\",\" 12th\",\" 1st-4th\",\" 5th-6th\",\" 7th-8th\",\" 9th\",\" Assoc-acdm\",\" Assoc-voc\",\" Bachelors\",\" Doctorate\",\" HS-grad\",\" Masters\",\" Prof-school\",\" Some-college\",\" 10th\",\" 11th\",\" 12th\",\" 1st-4th\",\" 5th-6th\",\" 7th-8th\",\" 9th\",\" Assoc-acdm\",\" Assoc-voc\",\" Bachelors\",\" Doctorate\",\" HS-grad\",\" Masters\",\" Preschool\",\" Prof-school\",\" Some-college\",\" 10th\",\" 11th\",\" 12th\",\" 1st-4th\",\" 5th-6th\",\" 7th-8th\",\" 9th\",\" Assoc-acdm\",\" Assoc-voc\",\" Bachelors\",\" Doctorate\",\" HS-grad\",\" Masters\",\" Preschool\",\" Prof-school\",\" Some-college\",\" 10th\",\" 11th\",\" 12th\",\" 1st-4th\",\" 5th-6th\",\" 7th-8th\",\" 9th\",\" Assoc-acdm\",\" Assoc-voc\",\" Bachelors\",\" Doctorate\",\" HS-grad\",\" Masters\",\" Preschool\",\" Prof-school\",\" Some-college\",\" 10th\",\" 11th\",\" 12th\",\" 1st-4th\",\" 5th-6th\",\" 7th-8th\",\" 9th\",\" Assoc-acdm\",\" Assoc-voc\",\" Bachelors\",\" Doctorate\",\" HS-grad\",\" Masters\",\" Preschool\",\" Prof-school\",\" Some-college\",\" 10th\",\" 11th\",\" 12th\",\" 1st-4th\",\" 5th-6th\",\" 7th-8th\",\" 9th\",\" Assoc-acdm\",\" Assoc-voc\",\" Bachelors\",\" Doctorate\",\" HS-grad\",\" Masters\",\" Prof-school\",\" Some-college\",\" 10th\",\" 11th\",\" 12th\",\" 1st-4th\",\" 5th-6th\",\" 7th-8th\",\" 9th\",\" Assoc-acdm\",\" Assoc-voc\",\" Bachelors\",\" Doctorate\",\" HS-grad\",\" Masters\",\" Prof-school\",\" Some-college\",\" 10th\",\" 11th\",\" 12th\",\" 1st-4th\",\" 5th-6th\",\" 7th-8th\",\" 9th\",\" Assoc-acdm\",\" Assoc-voc\",\" Bachelors\",\" Doctorate\",\" HS-grad\",\" Masters\",\" Prof-school\",\" Some-college\",\" 10th\",\" 11th\",\" 12th\",\" 1st-4th\",\" 5th-6th\",\" 7th-8th\",\" 9th\",\" Assoc-acdm\",\" Assoc-voc\",\" Bachelors\",\" Doctorate\",\" HS-grad\",\" Masters\",\" Prof-school\",\" Some-college\",\" 10th\",\" 11th\",\" 12th\",\" 1st-4th\",\" 5th-6th\",\" 7th-8th\",\" 9th\",\" Assoc-acdm\",\" Assoc-voc\",\" Bachelors\",\" Doctorate\",\" HS-grad\",\" Masters\",\" Preschool\",\" Prof-school\",\" Some-college\",\" 10th\",\" 11th\",\" 12th\",\" 1st-4th\",\" 5th-6th\",\" 7th-8th\",\" 9th\",\" Assoc-acdm\",\" Assoc-voc\",\" Bachelors\",\" Doctorate\",\" HS-grad\",\" Masters\",\" Prof-school\",\" Some-college\",\" 10th\",\" 11th\",\" 12th\",\" 1st-4th\",\" 5th-6th\",\" 7th-8th\",\" 9th\",\" Assoc-acdm\",\" Assoc-voc\",\" Bachelors\",\" Doctorate\",\" HS-grad\",\" Masters\",\" Preschool\",\" Prof-school\",\" Some-college\",\" 10th\",\" 11th\",\" 12th\",\" 5th-6th\",\" 7th-8th\",\" 9th\",\" Assoc-acdm\",\" Assoc-voc\",\" Bachelors\",\" Doctorate\",\" HS-grad\",\" Masters\",\" Prof-school\",\" Some-college\",\" 10th\",\" 11th\",\" 12th\",\" 1st-4th\",\" 5th-6th\",\" 7th-8th\",\" 9th\",\" Assoc-acdm\",\" Assoc-voc\",\" Bachelors\",\" Doctorate\",\" HS-grad\",\" Masters\",\" Preschool\",\" Prof-school\",\" Some-college\",\" 10th\",\" 11th\",\" 12th\",\" 1st-4th\",\" 5th-6th\",\" 7th-8th\",\" 9th\",\" Assoc-acdm\",\" Assoc-voc\",\" Bachelors\",\" Doctorate\",\" HS-grad\",\" Masters\",\" Preschool\",\" Prof-school\",\" Some-college\",\" 10th\",\" 11th\",\" 12th\",\" 5th-6th\",\" 7th-8th\",\" 9th\",\" Assoc-acdm\",\" Assoc-voc\",\" Bachelors\",\" Doctorate\",\" HS-grad\",\" Masters\",\" Preschool\",\" Prof-school\",\" Some-college\",\" 10th\",\" 11th\",\" 1st-4th\",\" 5th-6th\",\" 7th-8th\",\" 9th\",\" Assoc-acdm\",\" Assoc-voc\",\" Bachelors\",\" Doctorate\",\" HS-grad\",\" Masters\",\" Preschool\",\" Prof-school\",\" Some-college\",\" 10th\",\" 11th\",\" 12th\",\" 1st-4th\",\" 5th-6th\",\" 7th-8th\",\" 9th\",\" Assoc-acdm\",\" Assoc-voc\",\" Bachelors\",\" Doctorate\",\" HS-grad\",\" Masters\",\" Prof-school\",\" Some-college\",\" 10th\",\" 11th\",\" 12th\",\" 1st-4th\",\" 5th-6th\",\" 7th-8th\",\" 9th\",\" Assoc-acdm\",\" Assoc-voc\",\" Bachelors\",\" Doctorate\",\" HS-grad\",\" Masters\",\" Preschool\",\" Prof-school\",\" Some-college\",\" 10th\",\" 11th\",\" 12th\",\" 1st-4th\",\" 5th-6th\",\" 7th-8th\",\" 9th\",\" Assoc-acdm\",\" Assoc-voc\",\" Bachelors\",\" Doctorate\",\" HS-grad\",\" Masters\",\" Prof-school\",\" Some-college\",\" 10th\",\" 11th\",\" 5th-6th\",\" 7th-8th\",\" 9th\",\" Assoc-voc\",\" Bachelors\",\" Doctorate\",\" HS-grad\",\" Masters\",\" Prof-school\",\" Some-college\",\" 10th\",\" 11th\",\" 12th\",\" 1st-4th\",\" 5th-6th\",\" 7th-8th\",\" 9th\",\" Assoc-acdm\",\" Assoc-voc\",\" Bachelors\",\" Doctorate\",\" HS-grad\",\" Masters\",\" Preschool\",\" Prof-school\",\" Some-college\",\" 10th\",\" 11th\",\" 1st-4th\",\" 5th-6th\",\" 7th-8th\",\" 9th\",\" Assoc-acdm\",\" Assoc-voc\",\" Bachelors\",\" Doctorate\",\" HS-grad\",\" Masters\",\" Prof-school\",\" Some-college\",\" 10th\",\" 11th\",\" 12th\",\" 1st-4th\",\" 5th-6th\",\" 7th-8th\",\" 9th\",\" Assoc-voc\",\" Bachelors\",\" HS-grad\",\" Masters\",\" Prof-school\",\" Some-college\",\" 10th\",\" 1st-4th\",\" 5th-6th\",\" 7th-8th\",\" 9th\",\" Assoc-acdm\",\" Bachelors\",\" Doctorate\",\" HS-grad\",\" Masters\",\" Prof-school\",\" Some-college\",\" 10th\",\" 11th\",\" 1st-4th\",\" 5th-6th\",\" 9th\",\" Assoc-voc\",\" Bachelors\",\" Doctorate\",\" HS-grad\",\" Masters\",\" Preschool\",\" Prof-school\",\" Some-college\",\" 10th\",\" 11th\",\" 5th-6th\",\" 7th-8th\",\" 9th\",\" Bachelors\",\" HS-grad\",\" Masters\",\" Prof-school\",\" Some-college\",\" 5th-6th\",\" 7th-8th\",\" 9th\",\" Assoc-voc\",\" Bachelors\",\" Doctorate\",\" HS-grad\",\" Masters\",\" Prof-school\",\" Some-college\",\" 11th\",\" 5th-6th\",\" 7th-8th\",\" Assoc-acdm\",\" Bachelors\",\" HS-grad\",\" Masters\",\" Some-college\",\" 11th\",\" 12th\",\" 7th-8th\",\" Assoc-acdm\",\" Assoc-voc\",\" Bachelors\",\" Doctorate\",\" HS-grad\",\" Masters\",\" Prof-school\",\" Some-college\",\" 11th\",\" 7th-8th\",\" Assoc-acdm\",\" Assoc-voc\",\" Doctorate\",\" HS-grad\",\" Masters\",\" Prof-school\",\" Some-college\",\" 10th\",\" 1st-4th\",\" 7th-8th\",\" 9th\",\" Assoc-voc\",\" Bachelors\",\" HS-grad\",\" Masters\",\" Prof-school\",\" Some-college\",\" 10th\",\" 5th-6th\",\" 7th-8th\",\" Assoc-voc\",\" HS-grad\",\" Some-college\",\" 10th\",\" Bachelors\",\" HS-grad\",\" 5th-6th\",\" 7th-8th\",\" Assoc-voc\",\" Bachelors\",\" HS-grad\",\" Masters\",\" Some-college\",\" Bachelors\",\" HS-grad\",\" Masters\",\" HS-grad\",\" Prof-school\",\" Some-college\",\" 10th\",\" 11th\",\" 1st-4th\",\" 7th-8th\",\" 9th\",\" Assoc-acdm\",\" Bachelors\",\" HS-grad\",\" Masters\",\" Prof-school\",\" Some-college\",\"\",\"\",\"\",\"\",\"\",\"\",\"\",\"\",\"\",\"\",\"\",\"\",\"\",\"\",\"\",\"\"],\"values\":[138,180,37,1,3,25,8,3,38,166,60,4,5,8,152,1,116,16,45,29,3,2,9,6,1,3,2,266,1,329,15,27,14,1,5,3,12,13,10,1,237,1,1,413,17,16,8,1,4,7,10,21,29,7,225,1,2,372,19,21,13,2,11,5,11,27,29,85,232,310,17,23,15,3,12,13,11,36,33,186,245,5,2,276,9,25,8,4,5,12,8,31,32,195,1,254,13,2,199,21,26,11,6,7,9,15,37,31,205,259,26,1,3,184,17,23,9,9,6,6,27,32,192,254,28,1,6,175,17,21,6,2,16,7,14,32,42,192,4,268,26,1,11,176,35,28,10,5,6,14,12,37,38,178,4,285,31,13,171,19,15,9,3,7,8,7,30,60,144,7,298,36,13,157,13,28,6,3,13,13,33,50,172,6,293,31,1,15,184,19,19,11,7,4,17,19,44,41,168,12,296,33,2,13,183,22,23,9,2,9,10,6,33,49,174,5,272,32,2,14,166,23,21,9,6,9,14,11,37,48,150,13,313,44,1,11,165,14,26,8,2,2,7,8,31,48,168,12,308,48,1,16,187,14,25,13,1,5,10,15,34,41,161,8,320,47,14,168,19,23,7,4,9,8,13,45,43,171,11,311,46,2,18,168,16,22,4,8,9,4,13,35,60,142,10,301,45,16,173,13,20,6,2,5,12,10,25,50,179,8,253,43,23,178,17,18,9,1,5,4,11,38,32,167,9,267,67,2,21,148,18,9,6,2,2,9,10,47,50,134,14,241,58,3,25,166,8,12,8,6,12,8,8,25,43,151,9,261,67,1,25,164,12,16,3,2,7,16,7,32,38,144,17,230,68,2,22,164,13,9,5,2,7,6,8,22,30,165,8,233,68,20,174,12,12,10,4,5,12,6,29,33,149,11,192,66,24,159,9,16,7,3,7,9,10,24,37,153,18,214,67,15,145,10,16,3,6,9,14,12,35,42,138,13,207,62,2,27,141,10,17,3,1,10,14,6,21,29,121,14,242,59,20,141,15,16,3,3,4,11,6,21,22,91,13,173,47,1,12,105,12,14,5,1,5,21,12,13,27,95,11,180,55,1,11,114,15,15,3,2,7,16,5,19,18,103,14,208,57,20,100,13,14,4,4,5,13,10,22,27,86,16,215,48,1,11,106,12,13,10,5,8,12,7,11,26,63,11,164,34,3,11,88,13,12,7,5,9,13,11,9,12,66,15,153,46,2,6,85,15,6,3,5,4,12,4,8,12,58,11,145,35,4,5,88,23,8,3,1,6,11,10,11,14,62,10,144,39,10,67,16,13,6,4,4,22,12,5,8,53,6,119,25,6,67,12,5,4,9,9,10,6,7,7,48,7,120,30,16,68,15,12,5,6,5,12,11,9,10,60,8,134,17,3,59,25,13,1,2,3,14,10,10,9,42,9,119,27,1,8,62,11,10,1,2,8,20,9,7,17,34,4,107,20,7,55,12,7,6,4,7,26,10,4,4,31,8,108,16,1,10,46,10,2,3,3,18,8,3,12,40,5,89,18,5,42,10,7,4,4,2,14,7,3,5,39,3,80,13,1,4,34,7,10,2,4,5,12,5,6,6,21,9,74,8,1,6,32,7,12,1,3,8,3,1,8,24,3,63,6,1,4,34,7,5,1,2,14,6,3,7,26,3,41,6,1,3,25,6,6,1,2,3,13,2,2,3,19,6,51,13,3,21,6,3,1,1,2,11,3,1,3,12,7,38,6,1,1,24,6,5,1,2,3,5,5,3,3,13,3,38,3,5,13,3,1,2,3,4,4,14,2,28,5,2,21,2,1,1,1,2,6,3,1,2,7,1,24,6,1,4,10,4,5,1,1,3,2,1,3,5,4,22,1,3,12,3,4,1,2,2,6,1,2,9,25,1,1,7,4,3,2,2,2,1,5,2,15,1,3,11,2,2,1,2,1,2,5,3,13,3,1,2,8,3,1,2,7,4,5,12,4,1,7,1,3,2,1,3,1,7,3,1,7,1,1,6,1,5,6,2,1,1,1,2,1,1,2,3,7,1,1,2,1,4,1,1,1,9,1,2,2,1,3,1,1,1,3,5,1,1,3,1,1,3,1,4,2,1,1,4,2,1,1,1,3,1,1,1,2,1,1,2,1,1,2,1,3,1,1,9,14,4,1,6,933,1175,433,168,333,646,514,1067,1382,5355,413,10501,1723,51,576,7291],\"type\":\"treemap\"}],                        {\"template\":{\"data\":{\"bar\":[{\"error_x\":{\"color\":\"#2a3f5f\"},\"error_y\":{\"color\":\"#2a3f5f\"},\"marker\":{\"line\":{\"color\":\"#E5ECF6\",\"width\":0.5},\"pattern\":{\"fillmode\":\"overlay\",\"size\":10,\"solidity\":0.2}},\"type\":\"bar\"}],\"barpolar\":[{\"marker\":{\"line\":{\"color\":\"#E5ECF6\",\"width\":0.5},\"pattern\":{\"fillmode\":\"overlay\",\"size\":10,\"solidity\":0.2}},\"type\":\"barpolar\"}],\"carpet\":[{\"aaxis\":{\"endlinecolor\":\"#2a3f5f\",\"gridcolor\":\"white\",\"linecolor\":\"white\",\"minorgridcolor\":\"white\",\"startlinecolor\":\"#2a3f5f\"},\"baxis\":{\"endlinecolor\":\"#2a3f5f\",\"gridcolor\":\"white\",\"linecolor\":\"white\",\"minorgridcolor\":\"white\",\"startlinecolor\":\"#2a3f5f\"},\"type\":\"carpet\"}],\"choropleth\":[{\"colorbar\":{\"outlinewidth\":0,\"ticks\":\"\"},\"type\":\"choropleth\"}],\"contour\":[{\"colorbar\":{\"outlinewidth\":0,\"ticks\":\"\"},\"colorscale\":[[0.0,\"#0d0887\"],[0.1111111111111111,\"#46039f\"],[0.2222222222222222,\"#7201a8\"],[0.3333333333333333,\"#9c179e\"],[0.4444444444444444,\"#bd3786\"],[0.5555555555555556,\"#d8576b\"],[0.6666666666666666,\"#ed7953\"],[0.7777777777777778,\"#fb9f3a\"],[0.8888888888888888,\"#fdca26\"],[1.0,\"#f0f921\"]],\"type\":\"contour\"}],\"contourcarpet\":[{\"colorbar\":{\"outlinewidth\":0,\"ticks\":\"\"},\"type\":\"contourcarpet\"}],\"heatmap\":[{\"colorbar\":{\"outlinewidth\":0,\"ticks\":\"\"},\"colorscale\":[[0.0,\"#0d0887\"],[0.1111111111111111,\"#46039f\"],[0.2222222222222222,\"#7201a8\"],[0.3333333333333333,\"#9c179e\"],[0.4444444444444444,\"#bd3786\"],[0.5555555555555556,\"#d8576b\"],[0.6666666666666666,\"#ed7953\"],[0.7777777777777778,\"#fb9f3a\"],[0.8888888888888888,\"#fdca26\"],[1.0,\"#f0f921\"]],\"type\":\"heatmap\"}],\"heatmapgl\":[{\"colorbar\":{\"outlinewidth\":0,\"ticks\":\"\"},\"colorscale\":[[0.0,\"#0d0887\"],[0.1111111111111111,\"#46039f\"],[0.2222222222222222,\"#7201a8\"],[0.3333333333333333,\"#9c179e\"],[0.4444444444444444,\"#bd3786\"],[0.5555555555555556,\"#d8576b\"],[0.6666666666666666,\"#ed7953\"],[0.7777777777777778,\"#fb9f3a\"],[0.8888888888888888,\"#fdca26\"],[1.0,\"#f0f921\"]],\"type\":\"heatmapgl\"}],\"histogram\":[{\"marker\":{\"pattern\":{\"fillmode\":\"overlay\",\"size\":10,\"solidity\":0.2}},\"type\":\"histogram\"}],\"histogram2d\":[{\"colorbar\":{\"outlinewidth\":0,\"ticks\":\"\"},\"colorscale\":[[0.0,\"#0d0887\"],[0.1111111111111111,\"#46039f\"],[0.2222222222222222,\"#7201a8\"],[0.3333333333333333,\"#9c179e\"],[0.4444444444444444,\"#bd3786\"],[0.5555555555555556,\"#d8576b\"],[0.6666666666666666,\"#ed7953\"],[0.7777777777777778,\"#fb9f3a\"],[0.8888888888888888,\"#fdca26\"],[1.0,\"#f0f921\"]],\"type\":\"histogram2d\"}],\"histogram2dcontour\":[{\"colorbar\":{\"outlinewidth\":0,\"ticks\":\"\"},\"colorscale\":[[0.0,\"#0d0887\"],[0.1111111111111111,\"#46039f\"],[0.2222222222222222,\"#7201a8\"],[0.3333333333333333,\"#9c179e\"],[0.4444444444444444,\"#bd3786\"],[0.5555555555555556,\"#d8576b\"],[0.6666666666666666,\"#ed7953\"],[0.7777777777777778,\"#fb9f3a\"],[0.8888888888888888,\"#fdca26\"],[1.0,\"#f0f921\"]],\"type\":\"histogram2dcontour\"}],\"mesh3d\":[{\"colorbar\":{\"outlinewidth\":0,\"ticks\":\"\"},\"type\":\"mesh3d\"}],\"parcoords\":[{\"line\":{\"colorbar\":{\"outlinewidth\":0,\"ticks\":\"\"}},\"type\":\"parcoords\"}],\"pie\":[{\"automargin\":true,\"type\":\"pie\"}],\"scatter\":[{\"marker\":{\"colorbar\":{\"outlinewidth\":0,\"ticks\":\"\"}},\"type\":\"scatter\"}],\"scatter3d\":[{\"line\":{\"colorbar\":{\"outlinewidth\":0,\"ticks\":\"\"}},\"marker\":{\"colorbar\":{\"outlinewidth\":0,\"ticks\":\"\"}},\"type\":\"scatter3d\"}],\"scattercarpet\":[{\"marker\":{\"colorbar\":{\"outlinewidth\":0,\"ticks\":\"\"}},\"type\":\"scattercarpet\"}],\"scattergeo\":[{\"marker\":{\"colorbar\":{\"outlinewidth\":0,\"ticks\":\"\"}},\"type\":\"scattergeo\"}],\"scattergl\":[{\"marker\":{\"colorbar\":{\"outlinewidth\":0,\"ticks\":\"\"}},\"type\":\"scattergl\"}],\"scattermapbox\":[{\"marker\":{\"colorbar\":{\"outlinewidth\":0,\"ticks\":\"\"}},\"type\":\"scattermapbox\"}],\"scatterpolar\":[{\"marker\":{\"colorbar\":{\"outlinewidth\":0,\"ticks\":\"\"}},\"type\":\"scatterpolar\"}],\"scatterpolargl\":[{\"marker\":{\"colorbar\":{\"outlinewidth\":0,\"ticks\":\"\"}},\"type\":\"scatterpolargl\"}],\"scatterternary\":[{\"marker\":{\"colorbar\":{\"outlinewidth\":0,\"ticks\":\"\"}},\"type\":\"scatterternary\"}],\"surface\":[{\"colorbar\":{\"outlinewidth\":0,\"ticks\":\"\"},\"colorscale\":[[0.0,\"#0d0887\"],[0.1111111111111111,\"#46039f\"],[0.2222222222222222,\"#7201a8\"],[0.3333333333333333,\"#9c179e\"],[0.4444444444444444,\"#bd3786\"],[0.5555555555555556,\"#d8576b\"],[0.6666666666666666,\"#ed7953\"],[0.7777777777777778,\"#fb9f3a\"],[0.8888888888888888,\"#fdca26\"],[1.0,\"#f0f921\"]],\"type\":\"surface\"}],\"table\":[{\"cells\":{\"fill\":{\"color\":\"#EBF0F8\"},\"line\":{\"color\":\"white\"}},\"header\":{\"fill\":{\"color\":\"#C8D4E3\"},\"line\":{\"color\":\"white\"}},\"type\":\"table\"}]},\"layout\":{\"annotationdefaults\":{\"arrowcolor\":\"#2a3f5f\",\"arrowhead\":0,\"arrowwidth\":1},\"autotypenumbers\":\"strict\",\"coloraxis\":{\"colorbar\":{\"outlinewidth\":0,\"ticks\":\"\"}},\"colorscale\":{\"diverging\":[[0,\"#8e0152\"],[0.1,\"#c51b7d\"],[0.2,\"#de77ae\"],[0.3,\"#f1b6da\"],[0.4,\"#fde0ef\"],[0.5,\"#f7f7f7\"],[0.6,\"#e6f5d0\"],[0.7,\"#b8e186\"],[0.8,\"#7fbc41\"],[0.9,\"#4d9221\"],[1,\"#276419\"]],\"sequential\":[[0.0,\"#0d0887\"],[0.1111111111111111,\"#46039f\"],[0.2222222222222222,\"#7201a8\"],[0.3333333333333333,\"#9c179e\"],[0.4444444444444444,\"#bd3786\"],[0.5555555555555556,\"#d8576b\"],[0.6666666666666666,\"#ed7953\"],[0.7777777777777778,\"#fb9f3a\"],[0.8888888888888888,\"#fdca26\"],[1.0,\"#f0f921\"]],\"sequentialminus\":[[0.0,\"#0d0887\"],[0.1111111111111111,\"#46039f\"],[0.2222222222222222,\"#7201a8\"],[0.3333333333333333,\"#9c179e\"],[0.4444444444444444,\"#bd3786\"],[0.5555555555555556,\"#d8576b\"],[0.6666666666666666,\"#ed7953\"],[0.7777777777777778,\"#fb9f3a\"],[0.8888888888888888,\"#fdca26\"],[1.0,\"#f0f921\"]]},\"colorway\":[\"#636efa\",\"#EF553B\",\"#00cc96\",\"#ab63fa\",\"#FFA15A\",\"#19d3f3\",\"#FF6692\",\"#B6E880\",\"#FF97FF\",\"#FECB52\"],\"font\":{\"color\":\"#2a3f5f\"},\"geo\":{\"bgcolor\":\"white\",\"lakecolor\":\"white\",\"landcolor\":\"#E5ECF6\",\"showlakes\":true,\"showland\":true,\"subunitcolor\":\"white\"},\"hoverlabel\":{\"align\":\"left\"},\"hovermode\":\"closest\",\"mapbox\":{\"style\":\"light\"},\"paper_bgcolor\":\"white\",\"plot_bgcolor\":\"#E5ECF6\",\"polar\":{\"angularaxis\":{\"gridcolor\":\"white\",\"linecolor\":\"white\",\"ticks\":\"\"},\"bgcolor\":\"#E5ECF6\",\"radialaxis\":{\"gridcolor\":\"white\",\"linecolor\":\"white\",\"ticks\":\"\"}},\"scene\":{\"xaxis\":{\"backgroundcolor\":\"#E5ECF6\",\"gridcolor\":\"white\",\"gridwidth\":2,\"linecolor\":\"white\",\"showbackground\":true,\"ticks\":\"\",\"zerolinecolor\":\"white\"},\"yaxis\":{\"backgroundcolor\":\"#E5ECF6\",\"gridcolor\":\"white\",\"gridwidth\":2,\"linecolor\":\"white\",\"showbackground\":true,\"ticks\":\"\",\"zerolinecolor\":\"white\"},\"zaxis\":{\"backgroundcolor\":\"#E5ECF6\",\"gridcolor\":\"white\",\"gridwidth\":2,\"linecolor\":\"white\",\"showbackground\":true,\"ticks\":\"\",\"zerolinecolor\":\"white\"}},\"shapedefaults\":{\"line\":{\"color\":\"#2a3f5f\"}},\"ternary\":{\"aaxis\":{\"gridcolor\":\"white\",\"linecolor\":\"white\",\"ticks\":\"\"},\"baxis\":{\"gridcolor\":\"white\",\"linecolor\":\"white\",\"ticks\":\"\"},\"bgcolor\":\"#E5ECF6\",\"caxis\":{\"gridcolor\":\"white\",\"linecolor\":\"white\",\"ticks\":\"\"}},\"title\":{\"x\":0.05},\"xaxis\":{\"automargin\":true,\"gridcolor\":\"white\",\"linecolor\":\"white\",\"ticks\":\"\",\"title\":{\"standoff\":15},\"zerolinecolor\":\"white\",\"zerolinewidth\":2},\"yaxis\":{\"automargin\":true,\"gridcolor\":\"white\",\"linecolor\":\"white\",\"ticks\":\"\",\"title\":{\"standoff\":15},\"zerolinecolor\":\"white\",\"zerolinewidth\":2}}},\"legend\":{\"tracegroupgap\":0},\"margin\":{\"t\":60}},                        {\"responsive\": true}                    ).then(function(){\n",
              "                            \n",
              "var gd = document.getElementById('e8488a62-8de3-4c5c-9c1c-920202fc4362');\n",
              "var x = new MutationObserver(function (mutations, observer) {{\n",
              "        var display = window.getComputedStyle(gd).display;\n",
              "        if (!display || display === 'none') {{\n",
              "            console.log([gd, 'removed!']);\n",
              "            Plotly.purge(gd);\n",
              "            observer.disconnect();\n",
              "        }}\n",
              "}});\n",
              "\n",
              "// Listen for the removal of the full notebook cells\n",
              "var notebookContainer = gd.closest('#notebook-container');\n",
              "if (notebookContainer) {{\n",
              "    x.observe(notebookContainer, {childList: true});\n",
              "}}\n",
              "\n",
              "// Listen for the clearing of the current output cell\n",
              "var outputEl = gd.closest('.output');\n",
              "if (outputEl) {{\n",
              "    x.observe(outputEl, {childList: true});\n",
              "}}\n",
              "\n",
              "                        })                };                            </script>        </div>\n",
              "</body>\n",
              "</html>"
            ]
          },
          "metadata": {}
        }
      ]
    },
    {
      "cell_type": "code",
      "source": [
        "grafico = px.treemap(base_census, path = ['workclass', 'age'])\n",
        "grafico.show() "
      ],
      "metadata": {
        "colab": {
          "base_uri": "https://localhost:8080/",
          "height": 542
        },
        "id": "642ztrJVxBMV",
        "outputId": "5fbf7b57-2710-48b8-b7fa-80b4b3221900"
      },
      "execution_count": 75,
      "outputs": [
        {
          "output_type": "display_data",
          "data": {
            "text/html": [
              "<html>\n",
              "<head><meta charset=\"utf-8\" /></head>\n",
              "<body>\n",
              "    <div>            <script src=\"https://cdnjs.cloudflare.com/ajax/libs/mathjax/2.7.5/MathJax.js?config=TeX-AMS-MML_SVG\"></script><script type=\"text/javascript\">if (window.MathJax) {MathJax.Hub.Config({SVG: {font: \"STIX-Web\"}});}</script>                <script type=\"text/javascript\">window.PlotlyConfig = {MathJaxConfig: 'local'};</script>\n",
              "        <script src=\"https://cdn.plot.ly/plotly-2.8.3.min.js\"></script>                <div id=\"909922bc-dac4-47d5-a696-80b854a388ce\" class=\"plotly-graph-div\" style=\"height:525px; width:100%;\"></div>            <script type=\"text/javascript\">                                    window.PLOTLYENV=window.PLOTLYENV || {};                                    if (document.getElementById(\"909922bc-dac4-47d5-a696-80b854a388ce\")) {                    Plotly.newPlot(                        \"909922bc-dac4-47d5-a696-80b854a388ce\",                        [{\"branchvalues\":\"total\",\"domain\":{\"x\":[0.0,1.0],\"y\":[0.0,1.0]},\"hovertemplate\":\"labels=%{label}<br>count=%{value}<br>parent=%{parent}<br>id=%{id}<extra></extra>\",\"ids\":[\" ?/17\",\" Federal-gov/17\",\" Local-gov/17\",\" Never-worked/17\",\" Private/17\",\" Self-emp-inc/17\",\" Self-emp-not-inc/17\",\" State-gov/17\",\" ?/18\",\" Federal-gov/18\",\" Local-gov/18\",\" Never-worked/18\",\" Private/18\",\" Self-emp-inc/18\",\" Self-emp-not-inc/18\",\" State-gov/18\",\" ?/19\",\" Federal-gov/19\",\" Local-gov/19\",\" Private/19\",\" Self-emp-inc/19\",\" Self-emp-not-inc/19\",\" State-gov/19\",\" Without-pay/19\",\" ?/20\",\" Federal-gov/20\",\" Local-gov/20\",\" Never-worked/20\",\" Private/20\",\" Self-emp-inc/20\",\" Self-emp-not-inc/20\",\" State-gov/20\",\" ?/21\",\" Federal-gov/21\",\" Local-gov/21\",\" Private/21\",\" Self-emp-inc/21\",\" Self-emp-not-inc/21\",\" State-gov/21\",\" Without-pay/21\",\" ?/22\",\" Federal-gov/22\",\" Local-gov/22\",\" Private/22\",\" Self-emp-inc/22\",\" Self-emp-not-inc/22\",\" State-gov/22\",\" Without-pay/22\",\" ?/23\",\" Federal-gov/23\",\" Local-gov/23\",\" Never-worked/23\",\" Private/23\",\" Self-emp-inc/23\",\" Self-emp-not-inc/23\",\" State-gov/23\",\" ?/24\",\" Federal-gov/24\",\" Local-gov/24\",\" Private/24\",\" Self-emp-inc/24\",\" Self-emp-not-inc/24\",\" State-gov/24\",\" ?/25\",\" Federal-gov/25\",\" Local-gov/25\",\" Private/25\",\" Self-emp-inc/25\",\" Self-emp-not-inc/25\",\" State-gov/25\",\" ?/26\",\" Federal-gov/26\",\" Local-gov/26\",\" Private/26\",\" Self-emp-inc/26\",\" Self-emp-not-inc/26\",\" State-gov/26\",\" ?/27\",\" Federal-gov/27\",\" Local-gov/27\",\" Private/27\",\" Self-emp-inc/27\",\" Self-emp-not-inc/27\",\" State-gov/27\",\" ?/28\",\" Federal-gov/28\",\" Local-gov/28\",\" Private/28\",\" Self-emp-inc/28\",\" Self-emp-not-inc/28\",\" State-gov/28\",\" ?/29\",\" Federal-gov/29\",\" Local-gov/29\",\" Private/29\",\" Self-emp-inc/29\",\" Self-emp-not-inc/29\",\" State-gov/29\",\" Without-pay/29\",\" ?/30\",\" Federal-gov/30\",\" Local-gov/30\",\" Never-worked/30\",\" Private/30\",\" Self-emp-inc/30\",\" Self-emp-not-inc/30\",\" State-gov/30\",\" ?/31\",\" Federal-gov/31\",\" Local-gov/31\",\" Private/31\",\" Self-emp-inc/31\",\" Self-emp-not-inc/31\",\" State-gov/31\",\" ?/32\",\" Federal-gov/32\",\" Local-gov/32\",\" Private/32\",\" Self-emp-inc/32\",\" Self-emp-not-inc/32\",\" State-gov/32\",\" ?/33\",\" Federal-gov/33\",\" Local-gov/33\",\" Private/33\",\" Self-emp-inc/33\",\" Self-emp-not-inc/33\",\" State-gov/33\",\" ?/34\",\" Federal-gov/34\",\" Local-gov/34\",\" Private/34\",\" Self-emp-inc/34\",\" Self-emp-not-inc/34\",\" State-gov/34\",\" ?/35\",\" Federal-gov/35\",\" Local-gov/35\",\" Private/35\",\" Self-emp-inc/35\",\" Self-emp-not-inc/35\",\" State-gov/35\",\" ?/36\",\" Federal-gov/36\",\" Local-gov/36\",\" Private/36\",\" Self-emp-inc/36\",\" Self-emp-not-inc/36\",\" State-gov/36\",\" ?/37\",\" Federal-gov/37\",\" Local-gov/37\",\" Private/37\",\" Self-emp-inc/37\",\" Self-emp-not-inc/37\",\" State-gov/37\",\" ?/38\",\" Federal-gov/38\",\" Local-gov/38\",\" Private/38\",\" Self-emp-inc/38\",\" Self-emp-not-inc/38\",\" State-gov/38\",\" ?/39\",\" Federal-gov/39\",\" Local-gov/39\",\" Private/39\",\" Self-emp-inc/39\",\" Self-emp-not-inc/39\",\" State-gov/39\",\" ?/40\",\" Federal-gov/40\",\" Local-gov/40\",\" Private/40\",\" Self-emp-inc/40\",\" Self-emp-not-inc/40\",\" State-gov/40\",\" ?/41\",\" Federal-gov/41\",\" Local-gov/41\",\" Private/41\",\" Self-emp-inc/41\",\" Self-emp-not-inc/41\",\" State-gov/41\",\" ?/42\",\" Federal-gov/42\",\" Local-gov/42\",\" Private/42\",\" Self-emp-inc/42\",\" Self-emp-not-inc/42\",\" State-gov/42\",\" ?/43\",\" Federal-gov/43\",\" Local-gov/43\",\" Private/43\",\" Self-emp-inc/43\",\" Self-emp-not-inc/43\",\" State-gov/43\",\" ?/44\",\" Federal-gov/44\",\" Local-gov/44\",\" Private/44\",\" Self-emp-inc/44\",\" Self-emp-not-inc/44\",\" State-gov/44\",\" ?/45\",\" Federal-gov/45\",\" Local-gov/45\",\" Private/45\",\" Self-emp-inc/45\",\" Self-emp-not-inc/45\",\" State-gov/45\",\" ?/46\",\" Federal-gov/46\",\" Local-gov/46\",\" Private/46\",\" Self-emp-inc/46\",\" Self-emp-not-inc/46\",\" State-gov/46\",\" Without-pay/46\",\" ?/47\",\" Federal-gov/47\",\" Local-gov/47\",\" Private/47\",\" Self-emp-inc/47\",\" Self-emp-not-inc/47\",\" State-gov/47\",\" ?/48\",\" Federal-gov/48\",\" Local-gov/48\",\" Private/48\",\" Self-emp-inc/48\",\" Self-emp-not-inc/48\",\" State-gov/48\",\" ?/49\",\" Federal-gov/49\",\" Local-gov/49\",\" Private/49\",\" Self-emp-inc/49\",\" Self-emp-not-inc/49\",\" State-gov/49\",\" ?/50\",\" Federal-gov/50\",\" Local-gov/50\",\" Private/50\",\" Self-emp-inc/50\",\" Self-emp-not-inc/50\",\" State-gov/50\",\" ?/51\",\" Federal-gov/51\",\" Local-gov/51\",\" Private/51\",\" Self-emp-inc/51\",\" Self-emp-not-inc/51\",\" State-gov/51\",\" ?/52\",\" Federal-gov/52\",\" Local-gov/52\",\" Private/52\",\" Self-emp-inc/52\",\" Self-emp-not-inc/52\",\" State-gov/52\",\" Without-pay/52\",\" ?/53\",\" Federal-gov/53\",\" Local-gov/53\",\" Private/53\",\" Self-emp-inc/53\",\" Self-emp-not-inc/53\",\" State-gov/53\",\" ?/54\",\" Federal-gov/54\",\" Local-gov/54\",\" Private/54\",\" Self-emp-inc/54\",\" Self-emp-not-inc/54\",\" State-gov/54\",\" ?/55\",\" Federal-gov/55\",\" Local-gov/55\",\" Private/55\",\" Self-emp-inc/55\",\" Self-emp-not-inc/55\",\" State-gov/55\",\" ?/56\",\" Federal-gov/56\",\" Local-gov/56\",\" Private/56\",\" Self-emp-inc/56\",\" Self-emp-not-inc/56\",\" State-gov/56\",\" ?/57\",\" Federal-gov/57\",\" Local-gov/57\",\" Private/57\",\" Self-emp-inc/57\",\" Self-emp-not-inc/57\",\" State-gov/57\",\" ?/58\",\" Federal-gov/58\",\" Local-gov/58\",\" Private/58\",\" Self-emp-inc/58\",\" Self-emp-not-inc/58\",\" State-gov/58\",\" ?/59\",\" Federal-gov/59\",\" Local-gov/59\",\" Private/59\",\" Self-emp-inc/59\",\" Self-emp-not-inc/59\",\" State-gov/59\",\" ?/60\",\" Federal-gov/60\",\" Local-gov/60\",\" Private/60\",\" Self-emp-inc/60\",\" Self-emp-not-inc/60\",\" State-gov/60\",\" ?/61\",\" Federal-gov/61\",\" Local-gov/61\",\" Private/61\",\" Self-emp-inc/61\",\" Self-emp-not-inc/61\",\" State-gov/61\",\" ?/62\",\" Federal-gov/62\",\" Local-gov/62\",\" Private/62\",\" Self-emp-inc/62\",\" Self-emp-not-inc/62\",\" State-gov/62\",\" Without-pay/62\",\" ?/63\",\" Federal-gov/63\",\" Local-gov/63\",\" Private/63\",\" Self-emp-inc/63\",\" Self-emp-not-inc/63\",\" State-gov/63\",\" ?/64\",\" Federal-gov/64\",\" Local-gov/64\",\" Private/64\",\" Self-emp-inc/64\",\" Self-emp-not-inc/64\",\" State-gov/64\",\" ?/65\",\" Federal-gov/65\",\" Local-gov/65\",\" Private/65\",\" Self-emp-inc/65\",\" Self-emp-not-inc/65\",\" State-gov/65\",\" Without-pay/65\",\" ?/66\",\" Federal-gov/66\",\" Local-gov/66\",\" Private/66\",\" Self-emp-inc/66\",\" Self-emp-not-inc/66\",\" State-gov/66\",\" ?/67\",\" Federal-gov/67\",\" Local-gov/67\",\" Private/67\",\" Self-emp-inc/67\",\" Self-emp-not-inc/67\",\" State-gov/67\",\" Without-pay/67\",\" ?/68\",\" Federal-gov/68\",\" Local-gov/68\",\" Private/68\",\" Self-emp-inc/68\",\" Self-emp-not-inc/68\",\" State-gov/68\",\" Without-pay/68\",\" ?/69\",\" Federal-gov/69\",\" Local-gov/69\",\" Private/69\",\" Self-emp-inc/69\",\" Self-emp-not-inc/69\",\" State-gov/69\",\" ?/70\",\" Federal-gov/70\",\" Local-gov/70\",\" Private/70\",\" Self-emp-inc/70\",\" Self-emp-not-inc/70\",\" State-gov/70\",\" ?/71\",\" Federal-gov/71\",\" Local-gov/71\",\" Private/71\",\" Self-emp-inc/71\",\" Self-emp-not-inc/71\",\" State-gov/71\",\" ?/72\",\" Federal-gov/72\",\" Local-gov/72\",\" Private/72\",\" Self-emp-inc/72\",\" Self-emp-not-inc/72\",\" Without-pay/72\",\" ?/73\",\" Federal-gov/73\",\" Local-gov/73\",\" Private/73\",\" Self-emp-inc/73\",\" Self-emp-not-inc/73\",\" State-gov/73\",\" ?/74\",\" Federal-gov/74\",\" Private/74\",\" Self-emp-inc/74\",\" Self-emp-not-inc/74\",\" State-gov/74\",\" ?/75\",\" Local-gov/75\",\" Private/75\",\" Self-emp-inc/75\",\" Self-emp-not-inc/75\",\" State-gov/75\",\" ?/76\",\" Federal-gov/76\",\" Local-gov/76\",\" Private/76\",\" Self-emp-inc/76\",\" Self-emp-not-inc/76\",\" ?/77\",\" Local-gov/77\",\" Private/77\",\" Self-emp-inc/77\",\" Self-emp-not-inc/77\",\" ?/78\",\" Local-gov/78\",\" Private/78\",\" Self-emp-inc/78\",\" Self-emp-not-inc/78\",\" ?/79\",\" Federal-gov/79\",\" Local-gov/79\",\" Private/79\",\" Self-emp-inc/79\",\" Self-emp-not-inc/79\",\" ?/80\",\" Local-gov/80\",\" Private/80\",\" Self-emp-not-inc/80\",\" ?/81\",\" Private/81\",\" Self-emp-inc/81\",\" Self-emp-not-inc/81\",\" State-gov/81\",\" ?/82\",\" Private/82\",\" Self-emp-inc/82\",\" Self-emp-not-inc/82\",\" ?/83\",\" Private/83\",\" Self-emp-inc/83\",\" Self-emp-not-inc/83\",\" ?/84\",\" Local-gov/84\",\" Private/84\",\" Self-emp-inc/84\",\" Self-emp-not-inc/84\",\" Private/85\",\" Self-emp-not-inc/85\",\" Private/86\",\" ?/87\",\" Private/88\",\" Self-emp-not-inc/88\",\" ?/90\",\" Federal-gov/90\",\" Local-gov/90\",\" Private/90\",\" Self-emp-not-inc/90\",\" ?\",\" Federal-gov\",\" Local-gov\",\" Never-worked\",\" Private\",\" Self-emp-inc\",\" Self-emp-not-inc\",\" State-gov\",\" Without-pay\"],\"labels\":[\"17\",\"17\",\"17\",\"17\",\"17\",\"17\",\"17\",\"17\",\"18\",\"18\",\"18\",\"18\",\"18\",\"18\",\"18\",\"18\",\"19\",\"19\",\"19\",\"19\",\"19\",\"19\",\"19\",\"19\",\"20\",\"20\",\"20\",\"20\",\"20\",\"20\",\"20\",\"20\",\"21\",\"21\",\"21\",\"21\",\"21\",\"21\",\"21\",\"21\",\"22\",\"22\",\"22\",\"22\",\"22\",\"22\",\"22\",\"22\",\"23\",\"23\",\"23\",\"23\",\"23\",\"23\",\"23\",\"23\",\"24\",\"24\",\"24\",\"24\",\"24\",\"24\",\"24\",\"25\",\"25\",\"25\",\"25\",\"25\",\"25\",\"25\",\"26\",\"26\",\"26\",\"26\",\"26\",\"26\",\"26\",\"27\",\"27\",\"27\",\"27\",\"27\",\"27\",\"27\",\"28\",\"28\",\"28\",\"28\",\"28\",\"28\",\"28\",\"29\",\"29\",\"29\",\"29\",\"29\",\"29\",\"29\",\"29\",\"30\",\"30\",\"30\",\"30\",\"30\",\"30\",\"30\",\"30\",\"31\",\"31\",\"31\",\"31\",\"31\",\"31\",\"31\",\"32\",\"32\",\"32\",\"32\",\"32\",\"32\",\"32\",\"33\",\"33\",\"33\",\"33\",\"33\",\"33\",\"33\",\"34\",\"34\",\"34\",\"34\",\"34\",\"34\",\"34\",\"35\",\"35\",\"35\",\"35\",\"35\",\"35\",\"35\",\"36\",\"36\",\"36\",\"36\",\"36\",\"36\",\"36\",\"37\",\"37\",\"37\",\"37\",\"37\",\"37\",\"37\",\"38\",\"38\",\"38\",\"38\",\"38\",\"38\",\"38\",\"39\",\"39\",\"39\",\"39\",\"39\",\"39\",\"39\",\"40\",\"40\",\"40\",\"40\",\"40\",\"40\",\"40\",\"41\",\"41\",\"41\",\"41\",\"41\",\"41\",\"41\",\"42\",\"42\",\"42\",\"42\",\"42\",\"42\",\"42\",\"43\",\"43\",\"43\",\"43\",\"43\",\"43\",\"43\",\"44\",\"44\",\"44\",\"44\",\"44\",\"44\",\"44\",\"45\",\"45\",\"45\",\"45\",\"45\",\"45\",\"45\",\"46\",\"46\",\"46\",\"46\",\"46\",\"46\",\"46\",\"46\",\"47\",\"47\",\"47\",\"47\",\"47\",\"47\",\"47\",\"48\",\"48\",\"48\",\"48\",\"48\",\"48\",\"48\",\"49\",\"49\",\"49\",\"49\",\"49\",\"49\",\"49\",\"50\",\"50\",\"50\",\"50\",\"50\",\"50\",\"50\",\"51\",\"51\",\"51\",\"51\",\"51\",\"51\",\"51\",\"52\",\"52\",\"52\",\"52\",\"52\",\"52\",\"52\",\"52\",\"53\",\"53\",\"53\",\"53\",\"53\",\"53\",\"53\",\"54\",\"54\",\"54\",\"54\",\"54\",\"54\",\"54\",\"55\",\"55\",\"55\",\"55\",\"55\",\"55\",\"55\",\"56\",\"56\",\"56\",\"56\",\"56\",\"56\",\"56\",\"57\",\"57\",\"57\",\"57\",\"57\",\"57\",\"57\",\"58\",\"58\",\"58\",\"58\",\"58\",\"58\",\"58\",\"59\",\"59\",\"59\",\"59\",\"59\",\"59\",\"59\",\"60\",\"60\",\"60\",\"60\",\"60\",\"60\",\"60\",\"61\",\"61\",\"61\",\"61\",\"61\",\"61\",\"61\",\"62\",\"62\",\"62\",\"62\",\"62\",\"62\",\"62\",\"62\",\"63\",\"63\",\"63\",\"63\",\"63\",\"63\",\"63\",\"64\",\"64\",\"64\",\"64\",\"64\",\"64\",\"64\",\"65\",\"65\",\"65\",\"65\",\"65\",\"65\",\"65\",\"65\",\"66\",\"66\",\"66\",\"66\",\"66\",\"66\",\"66\",\"67\",\"67\",\"67\",\"67\",\"67\",\"67\",\"67\",\"67\",\"68\",\"68\",\"68\",\"68\",\"68\",\"68\",\"68\",\"68\",\"69\",\"69\",\"69\",\"69\",\"69\",\"69\",\"69\",\"70\",\"70\",\"70\",\"70\",\"70\",\"70\",\"70\",\"71\",\"71\",\"71\",\"71\",\"71\",\"71\",\"71\",\"72\",\"72\",\"72\",\"72\",\"72\",\"72\",\"72\",\"73\",\"73\",\"73\",\"73\",\"73\",\"73\",\"73\",\"74\",\"74\",\"74\",\"74\",\"74\",\"74\",\"75\",\"75\",\"75\",\"75\",\"75\",\"75\",\"76\",\"76\",\"76\",\"76\",\"76\",\"76\",\"77\",\"77\",\"77\",\"77\",\"77\",\"78\",\"78\",\"78\",\"78\",\"78\",\"79\",\"79\",\"79\",\"79\",\"79\",\"79\",\"80\",\"80\",\"80\",\"80\",\"81\",\"81\",\"81\",\"81\",\"81\",\"82\",\"82\",\"82\",\"82\",\"83\",\"83\",\"83\",\"83\",\"84\",\"84\",\"84\",\"84\",\"84\",\"85\",\"85\",\"86\",\"87\",\"88\",\"88\",\"90\",\"90\",\"90\",\"90\",\"90\",\" ?\",\" Federal-gov\",\" Local-gov\",\" Never-worked\",\" Private\",\" Self-emp-inc\",\" Self-emp-not-inc\",\" State-gov\",\" Without-pay\"],\"name\":\"\",\"parents\":[\" ?\",\" Federal-gov\",\" Local-gov\",\" Never-worked\",\" Private\",\" Self-emp-inc\",\" Self-emp-not-inc\",\" State-gov\",\" ?\",\" Federal-gov\",\" Local-gov\",\" Never-worked\",\" Private\",\" Self-emp-inc\",\" Self-emp-not-inc\",\" State-gov\",\" ?\",\" Federal-gov\",\" Local-gov\",\" Private\",\" Self-emp-inc\",\" Self-emp-not-inc\",\" State-gov\",\" Without-pay\",\" ?\",\" Federal-gov\",\" Local-gov\",\" Never-worked\",\" Private\",\" Self-emp-inc\",\" Self-emp-not-inc\",\" State-gov\",\" ?\",\" Federal-gov\",\" Local-gov\",\" Private\",\" Self-emp-inc\",\" Self-emp-not-inc\",\" State-gov\",\" Without-pay\",\" ?\",\" Federal-gov\",\" Local-gov\",\" Private\",\" Self-emp-inc\",\" Self-emp-not-inc\",\" State-gov\",\" Without-pay\",\" ?\",\" Federal-gov\",\" Local-gov\",\" Never-worked\",\" Private\",\" Self-emp-inc\",\" Self-emp-not-inc\",\" State-gov\",\" ?\",\" Federal-gov\",\" Local-gov\",\" Private\",\" Self-emp-inc\",\" Self-emp-not-inc\",\" State-gov\",\" ?\",\" Federal-gov\",\" Local-gov\",\" Private\",\" Self-emp-inc\",\" Self-emp-not-inc\",\" State-gov\",\" ?\",\" Federal-gov\",\" Local-gov\",\" Private\",\" Self-emp-inc\",\" Self-emp-not-inc\",\" State-gov\",\" ?\",\" Federal-gov\",\" Local-gov\",\" Private\",\" Self-emp-inc\",\" Self-emp-not-inc\",\" State-gov\",\" ?\",\" Federal-gov\",\" Local-gov\",\" Private\",\" Self-emp-inc\",\" Self-emp-not-inc\",\" State-gov\",\" ?\",\" Federal-gov\",\" Local-gov\",\" Private\",\" Self-emp-inc\",\" Self-emp-not-inc\",\" State-gov\",\" Without-pay\",\" ?\",\" Federal-gov\",\" Local-gov\",\" Never-worked\",\" Private\",\" Self-emp-inc\",\" Self-emp-not-inc\",\" State-gov\",\" ?\",\" Federal-gov\",\" Local-gov\",\" Private\",\" Self-emp-inc\",\" Self-emp-not-inc\",\" State-gov\",\" ?\",\" Federal-gov\",\" Local-gov\",\" Private\",\" Self-emp-inc\",\" Self-emp-not-inc\",\" State-gov\",\" ?\",\" Federal-gov\",\" Local-gov\",\" Private\",\" Self-emp-inc\",\" Self-emp-not-inc\",\" State-gov\",\" ?\",\" Federal-gov\",\" Local-gov\",\" Private\",\" Self-emp-inc\",\" Self-emp-not-inc\",\" State-gov\",\" ?\",\" Federal-gov\",\" Local-gov\",\" Private\",\" Self-emp-inc\",\" Self-emp-not-inc\",\" State-gov\",\" ?\",\" Federal-gov\",\" Local-gov\",\" Private\",\" Self-emp-inc\",\" Self-emp-not-inc\",\" State-gov\",\" ?\",\" Federal-gov\",\" Local-gov\",\" Private\",\" Self-emp-inc\",\" Self-emp-not-inc\",\" State-gov\",\" ?\",\" Federal-gov\",\" Local-gov\",\" Private\",\" Self-emp-inc\",\" Self-emp-not-inc\",\" State-gov\",\" ?\",\" Federal-gov\",\" Local-gov\",\" Private\",\" Self-emp-inc\",\" Self-emp-not-inc\",\" State-gov\",\" ?\",\" Federal-gov\",\" Local-gov\",\" Private\",\" Self-emp-inc\",\" Self-emp-not-inc\",\" State-gov\",\" ?\",\" Federal-gov\",\" Local-gov\",\" Private\",\" Self-emp-inc\",\" Self-emp-not-inc\",\" State-gov\",\" ?\",\" Federal-gov\",\" Local-gov\",\" Private\",\" Self-emp-inc\",\" Self-emp-not-inc\",\" State-gov\",\" ?\",\" Federal-gov\",\" Local-gov\",\" Private\",\" Self-emp-inc\",\" Self-emp-not-inc\",\" State-gov\",\" ?\",\" Federal-gov\",\" Local-gov\",\" Private\",\" Self-emp-inc\",\" Self-emp-not-inc\",\" State-gov\",\" ?\",\" Federal-gov\",\" Local-gov\",\" Private\",\" Self-emp-inc\",\" Self-emp-not-inc\",\" State-gov\",\" ?\",\" Federal-gov\",\" Local-gov\",\" Private\",\" Self-emp-inc\",\" Self-emp-not-inc\",\" State-gov\",\" Without-pay\",\" ?\",\" Federal-gov\",\" Local-gov\",\" Private\",\" Self-emp-inc\",\" Self-emp-not-inc\",\" State-gov\",\" ?\",\" Federal-gov\",\" Local-gov\",\" Private\",\" Self-emp-inc\",\" Self-emp-not-inc\",\" State-gov\",\" ?\",\" Federal-gov\",\" Local-gov\",\" Private\",\" Self-emp-inc\",\" Self-emp-not-inc\",\" State-gov\",\" ?\",\" Federal-gov\",\" Local-gov\",\" Private\",\" Self-emp-inc\",\" Self-emp-not-inc\",\" State-gov\",\" ?\",\" Federal-gov\",\" Local-gov\",\" Private\",\" Self-emp-inc\",\" Self-emp-not-inc\",\" State-gov\",\" ?\",\" Federal-gov\",\" Local-gov\",\" Private\",\" Self-emp-inc\",\" Self-emp-not-inc\",\" State-gov\",\" Without-pay\",\" ?\",\" Federal-gov\",\" Local-gov\",\" Private\",\" Self-emp-inc\",\" Self-emp-not-inc\",\" State-gov\",\" ?\",\" Federal-gov\",\" Local-gov\",\" Private\",\" Self-emp-inc\",\" Self-emp-not-inc\",\" State-gov\",\" ?\",\" Federal-gov\",\" Local-gov\",\" Private\",\" Self-emp-inc\",\" Self-emp-not-inc\",\" State-gov\",\" ?\",\" Federal-gov\",\" Local-gov\",\" Private\",\" Self-emp-inc\",\" Self-emp-not-inc\",\" State-gov\",\" ?\",\" Federal-gov\",\" Local-gov\",\" Private\",\" Self-emp-inc\",\" Self-emp-not-inc\",\" State-gov\",\" ?\",\" Federal-gov\",\" Local-gov\",\" Private\",\" Self-emp-inc\",\" Self-emp-not-inc\",\" State-gov\",\" ?\",\" Federal-gov\",\" Local-gov\",\" Private\",\" Self-emp-inc\",\" Self-emp-not-inc\",\" State-gov\",\" ?\",\" Federal-gov\",\" Local-gov\",\" Private\",\" Self-emp-inc\",\" Self-emp-not-inc\",\" State-gov\",\" ?\",\" Federal-gov\",\" Local-gov\",\" Private\",\" Self-emp-inc\",\" Self-emp-not-inc\",\" State-gov\",\" ?\",\" Federal-gov\",\" Local-gov\",\" Private\",\" Self-emp-inc\",\" Self-emp-not-inc\",\" State-gov\",\" Without-pay\",\" ?\",\" Federal-gov\",\" Local-gov\",\" Private\",\" Self-emp-inc\",\" Self-emp-not-inc\",\" State-gov\",\" ?\",\" Federal-gov\",\" Local-gov\",\" Private\",\" Self-emp-inc\",\" Self-emp-not-inc\",\" State-gov\",\" ?\",\" Federal-gov\",\" Local-gov\",\" Private\",\" Self-emp-inc\",\" Self-emp-not-inc\",\" State-gov\",\" Without-pay\",\" ?\",\" Federal-gov\",\" Local-gov\",\" Private\",\" Self-emp-inc\",\" Self-emp-not-inc\",\" State-gov\",\" ?\",\" Federal-gov\",\" Local-gov\",\" Private\",\" Self-emp-inc\",\" Self-emp-not-inc\",\" State-gov\",\" Without-pay\",\" ?\",\" Federal-gov\",\" Local-gov\",\" Private\",\" Self-emp-inc\",\" Self-emp-not-inc\",\" State-gov\",\" Without-pay\",\" ?\",\" Federal-gov\",\" Local-gov\",\" Private\",\" Self-emp-inc\",\" Self-emp-not-inc\",\" State-gov\",\" ?\",\" Federal-gov\",\" Local-gov\",\" Private\",\" Self-emp-inc\",\" Self-emp-not-inc\",\" State-gov\",\" ?\",\" Federal-gov\",\" Local-gov\",\" Private\",\" Self-emp-inc\",\" Self-emp-not-inc\",\" State-gov\",\" ?\",\" Federal-gov\",\" Local-gov\",\" Private\",\" Self-emp-inc\",\" Self-emp-not-inc\",\" Without-pay\",\" ?\",\" Federal-gov\",\" Local-gov\",\" Private\",\" Self-emp-inc\",\" Self-emp-not-inc\",\" State-gov\",\" ?\",\" Federal-gov\",\" Private\",\" Self-emp-inc\",\" Self-emp-not-inc\",\" State-gov\",\" ?\",\" Local-gov\",\" Private\",\" Self-emp-inc\",\" Self-emp-not-inc\",\" State-gov\",\" ?\",\" Federal-gov\",\" Local-gov\",\" Private\",\" Self-emp-inc\",\" Self-emp-not-inc\",\" ?\",\" Local-gov\",\" Private\",\" Self-emp-inc\",\" Self-emp-not-inc\",\" ?\",\" Local-gov\",\" Private\",\" Self-emp-inc\",\" Self-emp-not-inc\",\" ?\",\" Federal-gov\",\" Local-gov\",\" Private\",\" Self-emp-inc\",\" Self-emp-not-inc\",\" ?\",\" Local-gov\",\" Private\",\" Self-emp-not-inc\",\" ?\",\" Private\",\" Self-emp-inc\",\" Self-emp-not-inc\",\" State-gov\",\" ?\",\" Private\",\" Self-emp-inc\",\" Self-emp-not-inc\",\" ?\",\" Private\",\" Self-emp-inc\",\" Self-emp-not-inc\",\" ?\",\" Local-gov\",\" Private\",\" Self-emp-inc\",\" Self-emp-not-inc\",\" Private\",\" Self-emp-not-inc\",\" Private\",\" ?\",\" Private\",\" Self-emp-not-inc\",\" ?\",\" Federal-gov\",\" Local-gov\",\" Private\",\" Self-emp-not-inc\",\"\",\"\",\"\",\"\",\"\",\"\",\"\",\"\",\"\"],\"values\":[64,1,14,1,300,7,6,2,92,3,10,3,413,6,14,9,113,5,11,540,3,17,21,2,115,9,12,1,581,3,11,21,89,3,9,577,1,10,30,1,79,11,20,605,5,13,31,1,46,13,35,1,733,6,13,30,34,14,33,655,6,21,35,32,8,44,693,12,26,26,22,15,42,636,10,33,27,33,16,48,658,13,37,30,41,15,52,667,15,51,26,28,25,46,617,14,52,30,1,28,19,54,1,662,20,48,29,19,22,56,684,17,52,38,25,24,46,621,24,52,36,26,26,56,645,15,72,35,26,17,58,649,28,69,39,32,23,39,649,23,80,30,23,24,63,652,21,74,41,9,33,57,612,33,83,31,17,28,52,598,25,72,35,12,32,58,582,36,62,34,17,29,55,561,34,63,35,18,27,80,535,37,70,41,15,31,76,500,30,89,39,13,36,65,496,36,72,52,10,31,63,480,39,70,31,11,32,68,481,40,68,34,11,41,69,492,36,50,37,1,14,38,62,451,33,78,32,16,20,32,360,35,56,24,18,21,59,350,40,58,31,14,24,56,374,41,67,26,17,28,58,369,33,68,22,14,27,39,307,28,43,19,1,12,26,49,292,22,38,25,16,14,34,256,24,52,19,22,17,34,257,17,53,19,13,15,25,229,19,52,13,16,20,27,200,31,49,15,20,13,27,213,25,50,18,20,16,29,218,16,43,13,31,10,20,175,14,46,16,36,11,19,172,17,37,8,42,6,24,134,10,30,10,2,39,7,11,118,13,38,4,31,11,19,93,13,27,14,39,3,12,88,11,19,4,2,37,2,13,65,11,17,5,39,3,10,51,13,29,5,1,28,2,5,60,4,17,3,1,28,1,7,45,5,15,7,24,1,3,35,11,14,1,18,2,4,32,4,9,3,25,3,2,27,2,7,1,15,1,5,25,3,13,2,12,2,18,4,12,3,11,1,13,4,15,1,16,1,4,17,1,7,9,2,10,3,5,9,1,6,4,3,7,1,2,6,3,3,6,1,8,7,6,8,1,4,1,5,3,2,2,1,1,3,1,2,2,4,1,1,2,1,1,1,1,2,7,1,4,28,3,1836,960,2093,7,22696,1116,2541,1298,14],\"type\":\"treemap\"}],                        {\"template\":{\"data\":{\"bar\":[{\"error_x\":{\"color\":\"#2a3f5f\"},\"error_y\":{\"color\":\"#2a3f5f\"},\"marker\":{\"line\":{\"color\":\"#E5ECF6\",\"width\":0.5},\"pattern\":{\"fillmode\":\"overlay\",\"size\":10,\"solidity\":0.2}},\"type\":\"bar\"}],\"barpolar\":[{\"marker\":{\"line\":{\"color\":\"#E5ECF6\",\"width\":0.5},\"pattern\":{\"fillmode\":\"overlay\",\"size\":10,\"solidity\":0.2}},\"type\":\"barpolar\"}],\"carpet\":[{\"aaxis\":{\"endlinecolor\":\"#2a3f5f\",\"gridcolor\":\"white\",\"linecolor\":\"white\",\"minorgridcolor\":\"white\",\"startlinecolor\":\"#2a3f5f\"},\"baxis\":{\"endlinecolor\":\"#2a3f5f\",\"gridcolor\":\"white\",\"linecolor\":\"white\",\"minorgridcolor\":\"white\",\"startlinecolor\":\"#2a3f5f\"},\"type\":\"carpet\"}],\"choropleth\":[{\"colorbar\":{\"outlinewidth\":0,\"ticks\":\"\"},\"type\":\"choropleth\"}],\"contour\":[{\"colorbar\":{\"outlinewidth\":0,\"ticks\":\"\"},\"colorscale\":[[0.0,\"#0d0887\"],[0.1111111111111111,\"#46039f\"],[0.2222222222222222,\"#7201a8\"],[0.3333333333333333,\"#9c179e\"],[0.4444444444444444,\"#bd3786\"],[0.5555555555555556,\"#d8576b\"],[0.6666666666666666,\"#ed7953\"],[0.7777777777777778,\"#fb9f3a\"],[0.8888888888888888,\"#fdca26\"],[1.0,\"#f0f921\"]],\"type\":\"contour\"}],\"contourcarpet\":[{\"colorbar\":{\"outlinewidth\":0,\"ticks\":\"\"},\"type\":\"contourcarpet\"}],\"heatmap\":[{\"colorbar\":{\"outlinewidth\":0,\"ticks\":\"\"},\"colorscale\":[[0.0,\"#0d0887\"],[0.1111111111111111,\"#46039f\"],[0.2222222222222222,\"#7201a8\"],[0.3333333333333333,\"#9c179e\"],[0.4444444444444444,\"#bd3786\"],[0.5555555555555556,\"#d8576b\"],[0.6666666666666666,\"#ed7953\"],[0.7777777777777778,\"#fb9f3a\"],[0.8888888888888888,\"#fdca26\"],[1.0,\"#f0f921\"]],\"type\":\"heatmap\"}],\"heatmapgl\":[{\"colorbar\":{\"outlinewidth\":0,\"ticks\":\"\"},\"colorscale\":[[0.0,\"#0d0887\"],[0.1111111111111111,\"#46039f\"],[0.2222222222222222,\"#7201a8\"],[0.3333333333333333,\"#9c179e\"],[0.4444444444444444,\"#bd3786\"],[0.5555555555555556,\"#d8576b\"],[0.6666666666666666,\"#ed7953\"],[0.7777777777777778,\"#fb9f3a\"],[0.8888888888888888,\"#fdca26\"],[1.0,\"#f0f921\"]],\"type\":\"heatmapgl\"}],\"histogram\":[{\"marker\":{\"pattern\":{\"fillmode\":\"overlay\",\"size\":10,\"solidity\":0.2}},\"type\":\"histogram\"}],\"histogram2d\":[{\"colorbar\":{\"outlinewidth\":0,\"ticks\":\"\"},\"colorscale\":[[0.0,\"#0d0887\"],[0.1111111111111111,\"#46039f\"],[0.2222222222222222,\"#7201a8\"],[0.3333333333333333,\"#9c179e\"],[0.4444444444444444,\"#bd3786\"],[0.5555555555555556,\"#d8576b\"],[0.6666666666666666,\"#ed7953\"],[0.7777777777777778,\"#fb9f3a\"],[0.8888888888888888,\"#fdca26\"],[1.0,\"#f0f921\"]],\"type\":\"histogram2d\"}],\"histogram2dcontour\":[{\"colorbar\":{\"outlinewidth\":0,\"ticks\":\"\"},\"colorscale\":[[0.0,\"#0d0887\"],[0.1111111111111111,\"#46039f\"],[0.2222222222222222,\"#7201a8\"],[0.3333333333333333,\"#9c179e\"],[0.4444444444444444,\"#bd3786\"],[0.5555555555555556,\"#d8576b\"],[0.6666666666666666,\"#ed7953\"],[0.7777777777777778,\"#fb9f3a\"],[0.8888888888888888,\"#fdca26\"],[1.0,\"#f0f921\"]],\"type\":\"histogram2dcontour\"}],\"mesh3d\":[{\"colorbar\":{\"outlinewidth\":0,\"ticks\":\"\"},\"type\":\"mesh3d\"}],\"parcoords\":[{\"line\":{\"colorbar\":{\"outlinewidth\":0,\"ticks\":\"\"}},\"type\":\"parcoords\"}],\"pie\":[{\"automargin\":true,\"type\":\"pie\"}],\"scatter\":[{\"marker\":{\"colorbar\":{\"outlinewidth\":0,\"ticks\":\"\"}},\"type\":\"scatter\"}],\"scatter3d\":[{\"line\":{\"colorbar\":{\"outlinewidth\":0,\"ticks\":\"\"}},\"marker\":{\"colorbar\":{\"outlinewidth\":0,\"ticks\":\"\"}},\"type\":\"scatter3d\"}],\"scattercarpet\":[{\"marker\":{\"colorbar\":{\"outlinewidth\":0,\"ticks\":\"\"}},\"type\":\"scattercarpet\"}],\"scattergeo\":[{\"marker\":{\"colorbar\":{\"outlinewidth\":0,\"ticks\":\"\"}},\"type\":\"scattergeo\"}],\"scattergl\":[{\"marker\":{\"colorbar\":{\"outlinewidth\":0,\"ticks\":\"\"}},\"type\":\"scattergl\"}],\"scattermapbox\":[{\"marker\":{\"colorbar\":{\"outlinewidth\":0,\"ticks\":\"\"}},\"type\":\"scattermapbox\"}],\"scatterpolar\":[{\"marker\":{\"colorbar\":{\"outlinewidth\":0,\"ticks\":\"\"}},\"type\":\"scatterpolar\"}],\"scatterpolargl\":[{\"marker\":{\"colorbar\":{\"outlinewidth\":0,\"ticks\":\"\"}},\"type\":\"scatterpolargl\"}],\"scatterternary\":[{\"marker\":{\"colorbar\":{\"outlinewidth\":0,\"ticks\":\"\"}},\"type\":\"scatterternary\"}],\"surface\":[{\"colorbar\":{\"outlinewidth\":0,\"ticks\":\"\"},\"colorscale\":[[0.0,\"#0d0887\"],[0.1111111111111111,\"#46039f\"],[0.2222222222222222,\"#7201a8\"],[0.3333333333333333,\"#9c179e\"],[0.4444444444444444,\"#bd3786\"],[0.5555555555555556,\"#d8576b\"],[0.6666666666666666,\"#ed7953\"],[0.7777777777777778,\"#fb9f3a\"],[0.8888888888888888,\"#fdca26\"],[1.0,\"#f0f921\"]],\"type\":\"surface\"}],\"table\":[{\"cells\":{\"fill\":{\"color\":\"#EBF0F8\"},\"line\":{\"color\":\"white\"}},\"header\":{\"fill\":{\"color\":\"#C8D4E3\"},\"line\":{\"color\":\"white\"}},\"type\":\"table\"}]},\"layout\":{\"annotationdefaults\":{\"arrowcolor\":\"#2a3f5f\",\"arrowhead\":0,\"arrowwidth\":1},\"autotypenumbers\":\"strict\",\"coloraxis\":{\"colorbar\":{\"outlinewidth\":0,\"ticks\":\"\"}},\"colorscale\":{\"diverging\":[[0,\"#8e0152\"],[0.1,\"#c51b7d\"],[0.2,\"#de77ae\"],[0.3,\"#f1b6da\"],[0.4,\"#fde0ef\"],[0.5,\"#f7f7f7\"],[0.6,\"#e6f5d0\"],[0.7,\"#b8e186\"],[0.8,\"#7fbc41\"],[0.9,\"#4d9221\"],[1,\"#276419\"]],\"sequential\":[[0.0,\"#0d0887\"],[0.1111111111111111,\"#46039f\"],[0.2222222222222222,\"#7201a8\"],[0.3333333333333333,\"#9c179e\"],[0.4444444444444444,\"#bd3786\"],[0.5555555555555556,\"#d8576b\"],[0.6666666666666666,\"#ed7953\"],[0.7777777777777778,\"#fb9f3a\"],[0.8888888888888888,\"#fdca26\"],[1.0,\"#f0f921\"]],\"sequentialminus\":[[0.0,\"#0d0887\"],[0.1111111111111111,\"#46039f\"],[0.2222222222222222,\"#7201a8\"],[0.3333333333333333,\"#9c179e\"],[0.4444444444444444,\"#bd3786\"],[0.5555555555555556,\"#d8576b\"],[0.6666666666666666,\"#ed7953\"],[0.7777777777777778,\"#fb9f3a\"],[0.8888888888888888,\"#fdca26\"],[1.0,\"#f0f921\"]]},\"colorway\":[\"#636efa\",\"#EF553B\",\"#00cc96\",\"#ab63fa\",\"#FFA15A\",\"#19d3f3\",\"#FF6692\",\"#B6E880\",\"#FF97FF\",\"#FECB52\"],\"font\":{\"color\":\"#2a3f5f\"},\"geo\":{\"bgcolor\":\"white\",\"lakecolor\":\"white\",\"landcolor\":\"#E5ECF6\",\"showlakes\":true,\"showland\":true,\"subunitcolor\":\"white\"},\"hoverlabel\":{\"align\":\"left\"},\"hovermode\":\"closest\",\"mapbox\":{\"style\":\"light\"},\"paper_bgcolor\":\"white\",\"plot_bgcolor\":\"#E5ECF6\",\"polar\":{\"angularaxis\":{\"gridcolor\":\"white\",\"linecolor\":\"white\",\"ticks\":\"\"},\"bgcolor\":\"#E5ECF6\",\"radialaxis\":{\"gridcolor\":\"white\",\"linecolor\":\"white\",\"ticks\":\"\"}},\"scene\":{\"xaxis\":{\"backgroundcolor\":\"#E5ECF6\",\"gridcolor\":\"white\",\"gridwidth\":2,\"linecolor\":\"white\",\"showbackground\":true,\"ticks\":\"\",\"zerolinecolor\":\"white\"},\"yaxis\":{\"backgroundcolor\":\"#E5ECF6\",\"gridcolor\":\"white\",\"gridwidth\":2,\"linecolor\":\"white\",\"showbackground\":true,\"ticks\":\"\",\"zerolinecolor\":\"white\"},\"zaxis\":{\"backgroundcolor\":\"#E5ECF6\",\"gridcolor\":\"white\",\"gridwidth\":2,\"linecolor\":\"white\",\"showbackground\":true,\"ticks\":\"\",\"zerolinecolor\":\"white\"}},\"shapedefaults\":{\"line\":{\"color\":\"#2a3f5f\"}},\"ternary\":{\"aaxis\":{\"gridcolor\":\"white\",\"linecolor\":\"white\",\"ticks\":\"\"},\"baxis\":{\"gridcolor\":\"white\",\"linecolor\":\"white\",\"ticks\":\"\"},\"bgcolor\":\"#E5ECF6\",\"caxis\":{\"gridcolor\":\"white\",\"linecolor\":\"white\",\"ticks\":\"\"}},\"title\":{\"x\":0.05},\"xaxis\":{\"automargin\":true,\"gridcolor\":\"white\",\"linecolor\":\"white\",\"ticks\":\"\",\"title\":{\"standoff\":15},\"zerolinecolor\":\"white\",\"zerolinewidth\":2},\"yaxis\":{\"automargin\":true,\"gridcolor\":\"white\",\"linecolor\":\"white\",\"ticks\":\"\",\"title\":{\"standoff\":15},\"zerolinecolor\":\"white\",\"zerolinewidth\":2}}},\"legend\":{\"tracegroupgap\":0},\"margin\":{\"t\":60}},                        {\"responsive\": true}                    ).then(function(){\n",
              "                            \n",
              "var gd = document.getElementById('909922bc-dac4-47d5-a696-80b854a388ce');\n",
              "var x = new MutationObserver(function (mutations, observer) {{\n",
              "        var display = window.getComputedStyle(gd).display;\n",
              "        if (!display || display === 'none') {{\n",
              "            console.log([gd, 'removed!']);\n",
              "            Plotly.purge(gd);\n",
              "            observer.disconnect();\n",
              "        }}\n",
              "}});\n",
              "\n",
              "// Listen for the removal of the full notebook cells\n",
              "var notebookContainer = gd.closest('#notebook-container');\n",
              "if (notebookContainer) {{\n",
              "    x.observe(notebookContainer, {childList: true});\n",
              "}}\n",
              "\n",
              "// Listen for the clearing of the current output cell\n",
              "var outputEl = gd.closest('.output');\n",
              "if (outputEl) {{\n",
              "    x.observe(outputEl, {childList: true});\n",
              "}}\n",
              "\n",
              "                        })                };                            </script>        </div>\n",
              "</body>\n",
              "</html>"
            ]
          },
          "metadata": {}
        }
      ]
    },
    {
      "cell_type": "code",
      "source": [
        "plt.hist(base_census['education-num']);"
      ],
      "metadata": {
        "colab": {
          "base_uri": "https://localhost:8080/",
          "height": 265
        },
        "id": "6h0JrCuRsVYS",
        "outputId": "d52cd814-0069-4e9d-e665-cdb5b0f09762"
      },
      "execution_count": 25,
      "outputs": [
        {
          "output_type": "display_data",
          "data": {
            "image/png": "[encoded data removed]",
            "text/plain": [
              "<Figure size 432x288 with 1 Axes>"
            ]
          },
          "metadata": {
            "needs_background": "light"
          }
        }
      ]
    },
    {
      "cell_type": "code",
      "source": [
        "sns.countplot(x = base_census['education-num']);"
      ],
      "metadata": {
        "colab": {
          "base_uri": "https://localhost:8080/",
          "height": 285
        },
        "id": "0yRwUFTAs5X0",
        "outputId": "f6c4d200-4bed-49f9-f8de-b33c0ca6fb6f"
      },
      "execution_count": 46,
      "outputs": [
        {
          "output_type": "display_data",
          "data": {
            "image/png": "[encoded data removed]",
            "text/plain": [
              "<Figure size 432x288 with 1 Axes>"
            ]
          },
          "metadata": {}
        }
      ]
    },
    {
      "cell_type": "code",
      "source": [
        "plt.hist(base_census['age']);"
      ],
      "metadata": {
        "colab": {
          "base_uri": "https://localhost:8080/",
          "height": 265
        },
        "id": "NTr97_IksnZL",
        "outputId": "54b447e4-f112-49f5-8470-bfd002c493ea"
      },
      "execution_count": 24,
      "outputs": [
        {
          "output_type": "display_data",
          "data": {
            "image/png": "[encoded data removed]",
            "text/plain": [
              "<Figure size 432x288 with 1 Axes>"
            ]
          },
          "metadata": {
            "needs_background": "light"
          }
        }
      ]
    },
    {
      "cell_type": "code",
      "source": [
        "sns.countplot(x = base_census['age']);"
      ],
      "metadata": {
        "colab": {
          "base_uri": "https://localhost:8080/",
          "height": 285
        },
        "id": "NfyZ5jSHsw97",
        "outputId": "b4a7c33a-744e-427b-8fbe-29b5d899d745"
      },
      "execution_count": 53,
      "outputs": [
        {
          "output_type": "display_data",
          "data": {
            "image/png": "[encoded data removed]",
            "text/plain": [
              "<Figure size 432x288 with 1 Axes>"
            ]
          },
          "metadata": {}
        }
      ]
    },
    {
      "cell_type": "code",
      "source": [
        ""
      ],
      "metadata": {
        "id": "wairYIU7vlaH"
      },
      "execution_count": 75,
      "outputs": []
    }
  ]
}